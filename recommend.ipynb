{
 "cells": [
  {
   "cell_type": "code",
   "execution_count": 63,
   "metadata": {
    "collapsed": true
   },
   "outputs": [],
   "source": [
    "import vk\n",
    "import pandas as pd\n",
    "import random\n",
    "import time\n",
    "from sklearn.externals import joblib\n",
    "from scipy.sparse import csr_matrix\n",
    "from pathlib import Path\n",
    "from sklearn.decomposition import TruncatedSVD\n",
    "from tqdm import tqdm_notebook"
   ]
  },
  {
   "cell_type": "markdown",
   "metadata": {},
   "source": [
    "## Function to get movies info from VK"
   ]
  },
  {
   "cell_type": "code",
   "execution_count": 64,
   "metadata": {
    "collapsed": true
   },
   "outputs": [],
   "source": [
    "def get_data(id, n, min_num_of_movies=3):\n",
    "    \n",
    "    movies = pd.Series()\n",
    "    \n",
    "    file = Path(\"id\")\n",
    "    if file.is_file():\n",
    "        id = joblib.load(\"id\")\n",
    "        movies = joblib.load(\"movies\")\n",
    "    last_id = 0\n",
    "    count = 0\n",
    "    \n",
    "    while movies.size < n:\n",
    "        \n",
    "        f = vk.get_friends(str(id))\n",
    "        \n",
    "        friends = []\n",
    "        for x in f:\n",
    "            friends.append(str(x))\n",
    "        \n",
    "        user_info = vk.get_users_info(friends)\n",
    "        \n",
    "        for friend in user_info.keys():\n",
    "            if movies.size >= n:\n",
    "                break\n",
    "            \n",
    "            try:\n",
    "                if count == 100:\n",
    "                    print(\"pause\")\n",
    "                    #time.sleep(5)\n",
    "                    count = 0\n",
    "                else:\n",
    "                    count += 1\n",
    "                    \n",
    "                \n",
    "\n",
    "                if (\"movies\" in user_info[friend].keys() \n",
    "                    and len(user_info[friend][\"movies\"].split(\",\")) >= min_num_of_movies\n",
    "                    and not friend in movies.keys()\n",
    "                    and len(friends) >= 5):\n",
    "                    if movies.shape[0] % 20 == 0:\n",
    "                        joblib.dump(movies, filename=\"movies\", compress=9)\n",
    "                        joblib.dump(friend, filename=\"id\", compress=9)\n",
    "                    movies.set_value(friend, user_info[friend][\"movies\"].split(\",\"))\n",
    "                    print(friend)\n",
    "            except:\n",
    "                pass\n",
    "        print(\"Index: \" + str(movies.shape[0]))\n",
    "        print(\"Id: \" + str(id))\n",
    "        print(\"Last id: \" + str(last_id))\n",
    "        if movies.size < n:\n",
    "            last_id = id\n",
    "            while True: \n",
    "                ind = random.randint(0, len(friends)-1)\n",
    "                if (len(vk.get_friends(friends[ind])) >= 5\n",
    "                    and last_id != friends[ind]):\n",
    "                    id = friends[ind]\n",
    "                    break\n",
    "            \n",
    "    return movies"
   ]
  },
  {
   "cell_type": "markdown",
   "metadata": {},
   "source": [
    "## Function to get unique movies"
   ]
  },
  {
   "cell_type": "code",
   "execution_count": 65,
   "metadata": {
    "collapsed": true
   },
   "outputs": [],
   "source": [
    "def get_unique_movies(data):\n",
    "    unique_movies = set()\n",
    "    for movies in tqdm_notebook(data):\n",
    "        for movie in movies:        \n",
    "            unique_movies.add(movie)\n",
    "    return pd.Series(list(unique_movies))"
   ]
  },
  {
   "cell_type": "markdown",
   "metadata": {},
   "source": [
    "## Function to construct a matrix"
   ]
  },
  {
   "cell_type": "code",
   "execution_count": 66,
   "metadata": {
    "collapsed": false
   },
   "outputs": [],
   "source": [
    "def construct_matrix(data, unique_movies):\n",
    "    row = []\n",
    "    column = []\n",
    "\n",
    "    for user in tqdm_notebook(data.keys()):\n",
    "        for movie in data[user]:\n",
    "            row.append(user)\n",
    "            column.append(unique_movies[unique_movies == movie].index[0])\n",
    "    ones = [1 for x in range(len(row))]\n",
    "    \n",
    "    joblib.dump(row, filename=\"row\", compress=9)\n",
    "    joblib.dump(column, filename=\"column\", compress=9)\n",
    "    print(len(row), len(data))\n",
    "\n",
    "    movies_matrix = csr_matrix((ones, (row, column)), \\\n",
    "                               shape=(len(data), len(unique_movies)))\n",
    "    \n",
    "    a = movies_matrix.toarray()\n",
    "    \n",
    "    bad_indexes = [x for x in range(len(a))]\n",
    "    while len(bad_indexes) != 0:\n",
    "        maxes = a.argmax(1)\n",
    "        for index in bad_indexes:\n",
    "            if (a[index][maxes[index]] == 1):\n",
    "                del bad_indexes[bad_indexes.index(index)]\n",
    "            else:\n",
    "                a[index][maxes[index]] = 1\n",
    "    \n",
    "    movies_matrix = csr_matrix(a)\n",
    "    \n",
    "    return movies_matrix"
   ]
  },
  {
   "cell_type": "markdown",
   "metadata": {},
   "source": [
    "# Main stuff"
   ]
  },
  {
   "cell_type": "code",
   "execution_count": 67,
   "metadata": {
    "collapsed": false,
    "scrolled": true
   },
   "outputs": [],
   "source": [
    "file = Path(\"movies\")\n",
    "if file.is_file():\n",
    "    data = joblib.load(\"movies\")\n",
    "else:\n",
    "    data = get_data(1, 100000, min_num_of_movies=2)"
   ]
  },
  {
   "cell_type": "code",
   "execution_count": 68,
   "metadata": {
    "collapsed": false
   },
   "outputs": [
    {
     "name": "stdout",
     "output_type": "stream",
     "text": [
      "\n"
     ]
    }
   ],
   "source": [
    "unique_movies = get_unique_movies(data)"
   ]
  },
  {
   "cell_type": "code",
   "execution_count": null,
   "metadata": {
    "collapsed": false,
    "scrolled": true
   },
   "outputs": [],
   "source": [
    "matrix = construct_matrix(data, unique_movies)"
   ]
  },
  {
   "cell_type": "code",
   "execution_count": 218,
   "metadata": {
    "collapsed": false
   },
   "outputs": [
    {
     "data": {
      "text/plain": [
       "TruncatedSVD(algorithm='randomized', n_components=2, n_iter=5,\n",
       "       random_state=None, tol=0.0)"
      ]
     },
     "execution_count": 218,
     "metadata": {},
     "output_type": "execute_result"
    }
   ],
   "source": [
    "svd = TruncatedSVD()\n",
    "svd.fit(matrix)"
   ]
  },
  {
   "cell_type": "code",
   "execution_count": 243,
   "metadata": {
    "collapsed": false
   },
   "outputs": [],
   "source": [
    "y = svd.inverse_transform(svd.transform(matrix.todense()[5]))"
   ]
  },
  {
   "cell_type": "code",
   "execution_count": 242,
   "metadata": {
    "collapsed": false,
    "scrolled": true
   },
   "outputs": [
    {
     "data": {
      "text/plain": [
       "['Ванильное небо',\n",
       " ' Дом у озера',\n",
       " ' Двухсотлетний человек',\n",
       " ' Побег из Шоушенка',\n",
       " ' Зеленая миля',\n",
       " ' Бой с тенью ...продолжение следует']"
      ]
     },
     "execution_count": 242,
     "metadata": {},
     "output_type": "execute_result"
    }
   ],
   "source": [
    "data[5]"
   ]
  },
  {
   "cell_type": "code",
   "execution_count": 244,
   "metadata": {
    "collapsed": false,
    "scrolled": true
   },
   "outputs": [
    {
     "name": "stdout",
     "output_type": "stream",
     "text": [
      " Такси 2\n",
      " \" \"Дворовые танцы\"\n",
      " 2\n",
      " 3\n",
      " Побег из Шоушенка\n",
      " Бойцовский клуб\n",
      " Зеленая миля\n",
      " Достучаться до небес\n",
      " 4\n",
      " Игры разума\n",
      " Матрица\n",
      " \n",
      " Гладиатор\n",
      " Начало\n",
      " Реквием по мечте\n",
      " Властелин колец\n",
      " Форест Гамп\n",
      " Эффект бабочки\n",
      " 1+1\n",
      " Форрест Гамп\n",
      " Список Шиндлера\n",
      " Леон\n",
      " В погоне за счастьем\n",
      " Амели\n",
      " Жизнь прекрасна\n",
      " Криминальное чтиво\n",
      " Назад в будущее\n",
      " Вечное сияние чистого разума\n",
      " Престиж\n",
      " Молчание ягнят\n",
      " Спеши любить\n",
      " Аватар\n",
      " Пианист\n",
      " 5\n",
      " Пролетая над гнездом кукушки\n",
      " Титаник\n",
      " Секрет\n",
      " Крестный отец\n",
      " Время\n",
      " Отступники\n",
      " Семь\n",
      " Заплати другому\n",
      " Дневник памяти\n",
      " Троя\n",
      " Ванильное небо\n",
      " Иван Васильевич меняет профессию\n",
      " Остров проклятых\n",
      " Сумерки\n",
      " 2012\n",
      " Один дома\n",
      " Служебный роман\n",
      " Славные парни\n",
      " Трасса 60\n",
      " Форсаж\n",
      " Куда приводят мечты\n",
      " деньги\n",
      " Бриллиантовая рука\n",
      " Большой куш\n",
      " Унесённые призраками\n",
      " Иллюзионист\n",
      " Поймай меня если сможешь\n",
      " 12\n",
      " Семь жизней\n",
      " Мирный воин\n",
      " 6\n",
      " Апокалипсис сегодня\n",
      " Остров\n",
      " Карты\n",
      " Храброе сердце\n",
      " Социальная сеть\n",
      " 99 франков\n",
      " Трансформеры\n",
      " День сурка\n",
      " В джазе только девушки\n",
      " Рок-волна\n",
      " Авиатор\n",
      " Адвокат дьявола\n",
      " Лицо со шрамом\n",
      " Мулен Руж\n",
      " Запах женщины\n",
      " Догма\n",
      " Гарри Поттер\n",
      " Телохранитель\n",
      " ¶¶¶¶¶¶¶¶¶¶¶¶¶¶¶¶rґґґґr¶¶¶¶¶rrrrrrrr¶¶¶¶¶¶¶¶¶¶¶¶¶¶¶\n",
      " ¶¶¶¶¶¶¶¶¶¶¶¶¶¶¶ґґґґґґґґґґґґґrrrrrrrr¶¶¶¶¶¶¶¶¶¶¶¶¶¶\n",
      " ¶¶¶¶¶¶¶¶¶¶rrrrrґґґґґґґґґґґґґґrrrrr¶¶¶¶¶¶¶¶¶¶¶¶¶¶¶¶\n",
      " ¶¶¶¶¶¶rrr¶¶¶¶¶¶ґґґґґґґrrrrrґґґґґґґґґґґr¶¶¶¶¶¶¶¶¶¶¶\n",
      " ¶¶¶¶¶¶¶¶¶¶¶¶¶¶¶¶¶rґґ¶¶¶¶¶¶¶¶¶¶rrr¶¶¶¶¶¶¶¶¶¶¶¶¶¶¶¶¶\n",
      " ¶¶¶¶¶¶¶¶¶¶¶¶¶¶¶¶¶¶¶¶¶¶¶¶¶¶ґr¶¶¶¶¶¶ґr¶¶¶¶¶¶¶¶¶¶¶¶¶¶\n",
      " ¶¶¶¶¶¶¶¶¶¶¶¶¶¶¶¶¶¶rґr¶¶¶¶¶¶¶¶¶¶rrr¶¶¶¶¶¶¶¶¶¶¶¶¶¶¶¶\n",
      " ¶¶¶¶¶¶¶¶¶¶¶¶¶¶¶¶¶¶¶rґr¶¶¶¶¶¶¶¶¶¶¶ґr¶¶¶¶¶¶¶¶¶¶¶¶¶¶¶\n",
      " ¶¶¶¶¶¶¶¶¶¶¶¶¶¶¶¶¶¶¶¶¶ґr¶¶¶¶¶¶¶¶¶¶ґґ¶¶¶¶¶¶¶¶¶¶¶¶¶¶¶\n",
      " ¶¶¶¶¶¶¶¶¶¶¶¶¶¶¶¶¶¶¶¶¶¶ґґ¶¶¶¶¶¶¶¶¶rґ¶¶¶¶¶¶¶¶¶¶¶¶¶¶¶\n",
      " ¶¶¶¶¶¶¶¶¶¶¶¶¶¶¶¶¶¶¶¶¶¶¶rґ¶¶¶¶¶¶¶¶¶ґr¶¶¶¶¶¶¶¶¶¶¶¶¶¶\n",
      " ¶¶¶¶¶¶¶rґґr¶¶¶¶¶¶rґґґґґґr¶¶¶¶¶¶¶¶¶¶¶¶ґґrr¶¶¶¶¶¶¶¶¶\n",
      " ¶¶¶¶¶¶¶¶¶¶¶¶¶¶¶¶¶¶¶¶¶¶¶¶¶¶¶ґґ¶¶¶¶¶ґr¶¶¶¶¶¶¶¶¶¶¶¶¶¶\n",
      " ¶¶¶¶¶¶rґr¶¶¶¶¶¶¶rґґґrґrrґґґr¶¶¶¶¶¶¶rґґrrr¶¶¶¶¶¶¶¶¶\n",
      " ¶¶¶¶¶¶¶¶¶¶¶¶¶¶¶¶¶¶¶¶¶¶¶¶¶¶¶¶ґґ¶¶¶ґґ¶¶¶¶¶¶¶¶¶¶¶¶¶¶¶\n",
      " ¶¶¶¶¶¶¶¶rґґr¶¶¶¶¶¶ґґґґr¶¶¶¶¶¶¶¶¶¶¶¶ґґґrrr¶¶¶¶¶¶¶¶¶\n",
      " ¶¶¶¶¶¶¶¶¶ґґґr¶¶¶¶ґґґr¶¶¶¶¶¶rrrrrrrrrrrr¶¶¶¶¶¶¶¶¶¶¶\n"
     ]
    }
   ],
   "source": [
    "for i in range (100):\n",
    "    print(unique_movies[y.argsort()[0][len(y.argsort())-i]])"
   ]
  },
  {
   "cell_type": "markdown",
   "metadata": {},
   "source": [
    "# Personal info recomendation"
   ]
  },
  {
   "cell_type": "code",
   "execution_count": 6,
   "metadata": {
    "collapsed": false
   },
   "outputs": [
    {
     "name": "stdout",
     "output_type": "stream",
     "text": [
      "\n"
     ]
    }
   ],
   "source": [
    "num_of_blocks = len(data) // 1000 + 1\n",
    "stuff = len(data) % 1000\n",
    "users_info = []\n",
    "for i in tqdm_notebook(range(num_of_blocks)):\n",
    "    if i == i - 1:\n",
    "        users_info.append(vk.get_users_info(data.keys()[i*1000:i*1000 + stuff]))\n",
    "    else:\n",
    "        users_info.append(vk.get_users_info(data.keys()[i*1000:(i+1)*1000]))"
   ]
  },
  {
   "cell_type": "code",
   "execution_count": null,
   "metadata": {
    "collapsed": false
   },
   "outputs": [],
   "source": [
    "info = pd.DataFrame(columns=('Sex', 'Age', 'Country', 'Movie', 'Liked'))\n",
    "for user in tqdm_notebook(users_info[0].keys()):\n",
    "    sex = users_info[0][user]['sex']\n",
    "    if sex == 2:\n",
    "        sex = 0\n",
    "        \n",
    "    age = float('NaN')\n",
    "    if 'bdate' in users_info[0][user].keys():\n",
    "        ages = users_info[0][user]['bdate'].split(\".\")\n",
    "        if len(ages) == 3:\n",
    "            age = 2016 - int(ages[2])\n",
    "    \n",
    "    country = float('NaN')\n",
    "    if 'country' in users_info[0][user].keys():\n",
    "        country = users_info[0][user]['country']\n",
    "    \n",
    "    movies = set()\n",
    "    \n",
    "    for movie in users_info[0][user]['movies'].split(','):\n",
    "        movies.add(unique_movies[unique_movies == movie].index[0])\n",
    "    set_len = len(movies)\n",
    "    good_scores = [1 for x in range(set_len)]\n",
    "    for i in range(3):\n",
    "        movies.add(random.randint(0, unique_movies.size - 1))\n",
    "    bad_scores = [0 for x in range(len(movies)-set_len)]\n",
    "    scores = []\n",
    "    scores.extend(good_scores.extend(bad_scores))\n",
    "    print(len(movies), len(scores))\n",
    "    "
   ]
  },
  {
   "cell_type": "code",
   "execution_count": 47,
   "metadata": {
    "collapsed": false
   },
   "outputs": [
    {
     "data": {
      "text/plain": [
       "6560"
      ]
     },
     "execution_count": 47,
     "metadata": {},
     "output_type": "execute_result"
    }
   ],
   "source": [
    "unique_movies[unique_movies == 'Бойцовский клуб'].index[0]"
   ]
  }
 ],
 "metadata": {
  "anaconda-cloud": {},
  "kernelspec": {
   "display_name": "Python [Root]",
   "language": "python",
   "name": "Python [Root]"
  }
 },
 "nbformat": 4,
 "nbformat_minor": 0
}
