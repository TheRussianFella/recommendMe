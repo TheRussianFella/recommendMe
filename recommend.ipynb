{
 "cells": [
  {
   "cell_type": "markdown",
   "metadata": {},
   "source": [
    "# recommendMe"
   ]
  },
  {
   "cell_type": "code",
   "execution_count": 1,
   "metadata": {
    "collapsed": true
   },
   "outputs": [],
   "source": [
    "from flask import Flask\n",
    "from database import DataBase\n",
    "import utils\n",
    "import RecEng"
   ]
  },
  {
   "cell_type": "markdown",
   "metadata": {},
   "source": [
    "### Set up"
   ]
  },
  {
   "cell_type": "code",
   "execution_count": 2,
   "metadata": {
    "collapsed": false
   },
   "outputs": [],
   "source": [
    "# Key for IMDb api\n",
    "API_KEY = \"c30070156d8d7a150ea066f8094a2013\"\n",
    "\n",
    "# Our database\n",
    "database = DataBase(\"vk_users\")\n",
    "\n",
    "# Recommendation class\n",
    "recommender = RecEng.Recommender(database)"
   ]
  },
  {
   "cell_type": "markdown",
   "metadata": {},
   "source": [
    "### Downloading new users"
   ]
  },
  {
   "cell_type": "code",
   "execution_count": null,
   "metadata": {
    "collapsed": false,
    "scrolled": true
   },
   "outputs": [],
   "source": [
    "utils.get_data(68024287, 1000000, database, \"User_Info\", API_KEY)"
   ]
  },
  {
   "cell_type": "code",
   "execution_count": 3,
   "metadata": {
    "collapsed": false
   },
   "outputs": [],
   "source": [
    "utils.download_avatars(database, name=\"photo_200\")"
   ]
  },
  {
   "cell_type": "markdown",
   "metadata": {},
   "source": [
    "## Тестим"
   ]
  },
  {
   "cell_type": "code",
   "execution_count": 5,
   "metadata": {
    "collapsed": false
   },
   "outputs": [],
   "source": [
    "id_ = 366562392"
   ]
  },
  {
   "cell_type": "code",
   "execution_count": 6,
   "metadata": {
    "collapsed": false
   },
   "outputs": [
    {
     "name": "stdout",
     "output_type": "stream",
     "text": [
      "Только сильнейшие\n",
      "Последний самурай\n",
      "Удачи, Чак!\n",
      "Секрет Анастасии\n"
     ]
    }
   ],
   "source": [
    "for x in database.get_one(id_, \"User_Info\")['movies']:\n",
    "    print(database.get_one(x, \"Movie_Info\")['title'])"
   ]
  },
  {
   "cell_type": "code",
   "execution_count": 7,
   "metadata": {
    "collapsed": false
   },
   "outputs": [
    {
     "name": "stdout",
     "output_type": "stream",
     "text": [
      "Добро пожаловать в рай\n",
      "Элвис и Никсон\n",
      "Три цвета: Белый\n",
      "Серена\n",
      "Формула любви\n",
      "Горько!\n",
      "Руины\n",
      "Все умрут, а я останусь\n",
      "Первый эшелон\n",
      "Угнать за 60 секунд\n"
     ]
    }
   ],
   "source": [
    "for movie in recommender.ratings_rec(id_):\n",
    "    print(movie['title'])"
   ]
  },
  {
   "cell_type": "code",
   "execution_count": 8,
   "metadata": {
    "collapsed": false
   },
   "outputs": [
    {
     "name": "stdout",
     "output_type": "stream",
     "text": [
      "Первое признание\n",
      "Прогулка\n",
      "Звездные Войны: Откровения\n",
      "Служебный роман\n",
      "Девчата\n",
      "Иван Васильевич меняет профессию\n",
      "Полицейский – гладиатор\n",
      "Унесенные ветром\n",
      "Ирония судьбы, или С легким паром!\n",
      "Служебный роман\n",
      "Куда приводят мечты\n",
      "Легенды осени\n",
      "Мирный воин\n",
      "Властелин Колец: Возвращение Бомжа\n",
      "Звонок 2\n",
      "Заложница 3\n",
      "Неоспоримый 4\n",
      "5-я волна\n",
      "Кухня. Последняя битва\n",
      "Аватар\n",
      "Казанова\n",
      "Титаник\n",
      "Мемуары гейши\n"
     ]
    }
   ],
   "source": [
    "for movie in recommender.groups_rec(id_):\n",
    "    print(movie['title'])"
   ]
  },
  {
   "cell_type": "markdown",
   "metadata": {},
   "source": [
    "## Web"
   ]
  },
  {
   "cell_type": "code",
   "execution_count": 94,
   "metadata": {
    "collapsed": true
   },
   "outputs": [],
   "source": [
    "app = Flask(\"recApp\")"
   ]
  },
  {
   "cell_type": "code",
   "execution_count": 96,
   "metadata": {
    "collapsed": false
   },
   "outputs": [],
   "source": [
    "@app.route(\"/getRecs/<int:user_id>\")\n",
    "def get_recs(user_id):\n",
    "    user = user_info.find_one({\"_id\":user_id})\n",
    "    recs = []\n",
    "    if user:\n",
    "        matr, users, movies = build_matrix(build_type=\"ratings\")\n",
    "        recs = ratings_rec(matrix, users[user_id], users, movies)\n",
    "    else:\n",
    "        vk_user = vk.get_users_info([user_id])[str(user_id)]\n",
    "        if 'movies' in vk_user and len(vk_user['movies']) != 0:\n",
    "            unchecked = []\n",
    "            for movie in vk_user['movies']:\n",
    "                m = movie_info.find_one({\"title\":movie}) \n",
    "                if m:\n",
    "                    recs.append(m)\n",
    "                else:\n",
    "                    unchecked.append(movie)\n",
    "            for movie in unchecked:\n",
    "                m = get_movie_info(movie, API_KEY)\n",
    "                if m != []:\n",
    "                    m[\"_id\"] = m[\"id\"]\n",
    "                    del m[\"id\"]\n",
    "                    recs.append(m)\n",
    "                    try:\n",
    "                        movie_info.insert_one(m)\n",
    "                    except:\n",
    "                        1+1\n",
    "    return json.dumps(recs)"
   ]
  },
  {
   "cell_type": "code",
   "execution_count": 97,
   "metadata": {
    "collapsed": false
   },
   "outputs": [],
   "source": [
    "app.run(port=8888)"
   ]
  }
 ],
 "metadata": {
  "anaconda-cloud": {},
  "kernelspec": {
   "display_name": "Python [Root]",
   "language": "python",
   "name": "Python [Root]"
  },
  "language_info": {
   "codemirror_mode": {
    "name": "ipython",
    "version": 3
   },
   "file_extension": ".py",
   "mimetype": "text/x-python",
   "name": "python",
   "nbconvert_exporter": "python",
   "pygments_lexer": "ipython3",
   "version": "3.5.2"
  }
 },
 "nbformat": 4,
 "nbformat_minor": 0
}
