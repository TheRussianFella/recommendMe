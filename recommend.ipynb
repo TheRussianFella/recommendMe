{
 "cells": [
  {
   "cell_type": "markdown",
   "metadata": {},
   "source": [
    "# recommendMe"
   ]
  },
  {
   "cell_type": "code",
   "execution_count": 1,
   "metadata": {
    "collapsed": true
   },
   "outputs": [],
   "source": [
    "import vk\n",
    "import pandas as pd\n",
    "import random\n",
    "import time\n",
    "from sklearn.externals import joblib\n",
    "from scipy.sparse import csr_matrix\n",
    "from pathlib import Path\n",
    "from sklearn.decomposition import TruncatedSVD\n",
    "from tqdm import tqdm_notebook\n",
    "import requests"
   ]
  },
  {
   "cell_type": "markdown",
   "metadata": {},
   "source": [
    "## Получаем информацию о юзерах, у которых указано больше N любимых фильмов"
   ]
  },
  {
   "cell_type": "code",
   "execution_count": 2,
   "metadata": {
    "collapsed": true
   },
   "outputs": [],
   "source": [
    "def get_data(id, n, min_num_of_movies=3):\n",
    "    \n",
    "    movies = pd.Series()\n",
    "    \n",
    "    file = Path(\"id\")\n",
    "    if file.is_file():\n",
    "        id = joblib.load(\"id\")\n",
    "        movies = joblib.load(\"movies\")\n",
    "    last_id = 0\n",
    "    count = 0\n",
    "    \n",
    "    while movies.size < n:\n",
    "        \n",
    "        f = vk.get_friends(str(id))\n",
    "        \n",
    "        friends = []\n",
    "        for x in f:\n",
    "            friends.append(str(x))\n",
    "        \n",
    "        user_info = vk.get_users_info(friends)\n",
    "        \n",
    "        for friend in user_info.keys():\n",
    "            if movies.size >= n:\n",
    "                break\n",
    "            \n",
    "            try:\n",
    "                if count == 100:\n",
    "                    print(\"pause\")\n",
    "                    time.sleep(1)\n",
    "                    count = 0\n",
    "                else:\n",
    "                    count += 1\n",
    "                    \n",
    "                \n",
    "\n",
    "                if (\"movies\" in user_info[friend].keys() \n",
    "                    and len(user_info[friend][\"movies\"].split(\",\")) >= min_num_of_movies\n",
    "                    and not friend in movies.keys()\n",
    "                    and len(friends) >= 5):\n",
    "                    if movies.shape[0] % 20 == 0:\n",
    "                        joblib.dump(movies, filename=\"movies\", compress=9)\n",
    "                        joblib.dump(friend, filename=\"id\", compress=9)\n",
    "                    movies.set_value(friend, user_info[friend][\"movies\"].split(\",\"))\n",
    "                    print(friend)\n",
    "            except:\n",
    "                pass\n",
    "        print(\"Index: \" + str(movies.shape[0]))\n",
    "        print(\"Id: \" + str(id))\n",
    "        print(\"Last id: \" + str(last_id))\n",
    "        if movies.size < n:\n",
    "            last_id = id\n",
    "            while True: \n",
    "                ind = random.randint(0, len(friends)-1)\n",
    "                if (len(vk.get_friends(friends[ind])) >= 5\n",
    "                    and last_id != friends[ind]):\n",
    "                    id = friends[ind]\n",
    "                    break\n",
    "            \n",
    "    return movies"
   ]
  },
  {
   "cell_type": "markdown",
   "metadata": {},
   "source": [
    "## Получаем список уникальных фильмов"
   ]
  },
  {
   "cell_type": "code",
   "execution_count": 3,
   "metadata": {
    "collapsed": true
   },
   "outputs": [],
   "source": [
    "def get_unique_movies(data):\n",
    "    unique_movies = {}\n",
    "    uniq_movies_reverse = {}\n",
    "    for movies in tqdm_notebook(data):\n",
    "        for movie_raw in movies:\n",
    "            movie = movie_raw.strip().lower()\n",
    "            if len(movie) < 3:\n",
    "                continue\n",
    "            if movie not in unique_movies:\n",
    "                unique_movies[movie] = len(unique_movies)\n",
    "                uniq_movies_reverse[unique_movies[movie]] = movie\n",
    "    return unique_movies, unique_movies_reverse"
   ]
  },
  {
   "cell_type": "markdown",
   "metadata": {},
   "source": [
    "## Создаем матрицу"
   ]
  },
  {
   "cell_type": "code",
   "execution_count": 4,
   "metadata": {
    "collapsed": false
   },
   "outputs": [],
   "source": [
    "def construct_matrix(data, unique_movies):\n",
    "    row = []\n",
    "    column = []\n",
    "    user_dict = {}\n",
    "    count = 0\n",
    "    for user in tqdm_notebook(data.keys()):\n",
    "        for movie in data[user]:\n",
    "            if movie.strip().lower() in unique_movies:\n",
    "                column.append(unique_movies[movie.lower().strip()])\n",
    "                row.append(count)\n",
    "\n",
    "        user_dict[count] = user\n",
    "        count += 1\n",
    "    ones = [1 for x in range(len(row))]\n",
    "    \n",
    "    joblib.dump(row, filename=\"row\", compress=9)\n",
    "    joblib.dump(column, filename=\"column\", compress=9)\n",
    "\n",
    "    movies_matrix = csr_matrix((ones, (row, column)), \\\n",
    "                               shape=(len(data), len(unique_movies)))\n",
    "    return movies_matrix"
   ]
  },
  {
   "cell_type": "markdown",
   "metadata": {},
   "source": [
    "# Коллаборативная фильтрация"
   ]
  },
  {
   "cell_type": "code",
   "execution_count": null,
   "metadata": {
    "collapsed": false,
    "scrolled": true
   },
   "outputs": [
    {
     "name": "stdout",
     "output_type": "stream",
     "text": [
      "142892755\n",
      "152459922\n",
      "143823137\n",
      "102497485\n",
      "157154363\n",
      "pause\n",
      "pause\n",
      "Index: 48725\n",
      "Id: 105705855\n",
      "Last id: 0\n",
      "pause\n",
      "24183484\n",
      "138172346\n",
      "41585884\n",
      "3608355\n",
      "22886220\n",
      "147684925\n",
      "pause\n",
      "133048806\n",
      "89231129\n",
      "80914814\n",
      "119912399\n",
      "pause\n",
      "131158344\n",
      "102414627\n",
      "pause\n",
      "85640794\n",
      "156059937\n",
      "99184050\n",
      "pause\n",
      "94779953\n",
      "45583757\n",
      "89758939\n",
      "97486780\n",
      "135776661\n",
      "133363708\n",
      "pause\n",
      "133831715\n",
      "99550807\n",
      "12586259\n",
      "42819340\n",
      "pause\n",
      "142978082\n",
      "72873732\n",
      "143053802\n",
      "133489304\n",
      "30827521\n",
      "70220873\n",
      "pause\n",
      "119562367\n",
      "133455306\n",
      "127450169\n",
      "140324265\n",
      "pause\n",
      "72513863\n",
      "124577491\n",
      "114680698\n",
      "pause\n",
      "127785233\n",
      "27630938\n",
      "135064241\n",
      "pause\n",
      "88791605\n",
      "142191399\n",
      "182415650\n",
      "117130781\n",
      "94609401\n",
      "pause\n",
      "86058479\n",
      "139096756\n",
      "182340223\n",
      "99136828\n",
      "pause\n",
      "119774851\n",
      "67857727\n",
      "136412447\n",
      "16723315\n",
      "90979844\n",
      "134140552\n",
      "135660396\n",
      "pause\n",
      "124393316\n",
      "28641217\n",
      "34197654\n",
      "25821515\n",
      "pause\n",
      "216412840\n",
      "41248216\n",
      "35589844\n",
      "68438631\n",
      "88736662\n",
      "152845368\n",
      "63856273\n",
      "pause\n",
      "155097774\n",
      "20073042\n",
      "pause\n",
      "108119553\n",
      "137549891\n",
      "132960895\n",
      "14685731\n",
      "134860803\n",
      "pause\n",
      "84717983\n",
      "138200863\n",
      "57756995\n",
      "105705855\n",
      "103850230\n",
      "pause\n",
      "140671993\n",
      "86196418\n",
      "124000206\n",
      "pause\n",
      "124210487\n",
      "61528475\n",
      "114773518\n",
      "14056075\n",
      "89806562\n",
      "5318139\n",
      "67710559\n",
      "pause\n",
      "114319638\n",
      "142592975\n",
      "63065902\n",
      "1945397\n",
      "pause\n",
      "106959957\n",
      "42274795\n",
      "Index: 48821\n",
      "Id: 91350610\n",
      "Last id: 105705855\n",
      "pause\n",
      "137932914\n",
      "pause\n",
      "136884954\n",
      "138958079\n",
      "118564254\n",
      "121525365\n",
      "95433942\n",
      "pause\n",
      "108089276\n",
      "140006181\n",
      "pause\n",
      "24893812\n",
      "139459274\n",
      "pause\n",
      "75116714\n",
      "134153900\n",
      "133417547\n",
      "135917510\n",
      "pause\n",
      "137098781\n",
      "6548848\n",
      "141672991\n",
      "87449054\n",
      "124120716\n",
      "pause\n",
      "137236340\n",
      "136278418\n",
      "132668080\n",
      "pause\n",
      "134920054\n",
      "72048847\n",
      "pause\n",
      "154115959\n",
      "62167957\n",
      "121957097\n",
      "112792338\n",
      "pause\n",
      "28576047\n",
      "120476691\n",
      "120065450\n",
      "141822589\n",
      "pause\n",
      "138431164\n",
      "141853487\n",
      "22223442\n",
      "pause\n",
      "103921735\n",
      "55816995\n",
      "pause\n",
      "114416034\n",
      "39376939\n",
      "35761030\n",
      "pause\n",
      "133196765\n",
      "53592587\n",
      "58991359\n",
      "87915061\n",
      "pause\n",
      "147542261\n",
      "137550671\n",
      "40559311\n",
      "137358924\n",
      "pause\n",
      "138094717\n",
      "137450924\n",
      "119175629\n",
      "Index: 48872\n",
      "Id: 107964667\n",
      "Last id: 91350610\n",
      "106334589\n",
      "pause\n",
      "45103156\n",
      "194077593\n",
      "131641292\n",
      "Index: 48876\n",
      "Id: 89359450\n",
      "Last id: 107964667\n",
      "18225747\n",
      "pause\n",
      "144004815\n",
      "143848792\n",
      "154649666\n",
      "86784704\n",
      "131629458\n",
      "132785061\n",
      "146149749\n",
      "136096668\n",
      "81672030\n",
      "pause\n",
      "80923466\n",
      "112340887\n",
      "157804536\n",
      "160903410\n",
      "155953915\n",
      "173742485\n",
      "110346246\n",
      "pause\n",
      "140807589\n",
      "83383874\n",
      "32872247\n",
      "193953731\n",
      "77499310\n",
      "7011894\n",
      "Index: 48899\n",
      "Id: 114942466\n",
      "Last id: 89359450\n",
      "pause\n",
      "312535217\n",
      "Index: 48900\n",
      "Id: 143123957\n",
      "Last id: 114942466\n",
      "245811829\n",
      "pause\n",
      "168384925\n",
      "pause\n",
      "26253441\n",
      "11294773\n",
      "Index: 48904\n",
      "Id: 185919422\n",
      "Last id: 143123957\n",
      "211696954\n",
      "pause\n",
      "73164289\n",
      "57429107\n",
      "pause\n",
      "5677527\n",
      "84309709\n",
      "154302760\n",
      "106137835\n",
      "pause\n",
      "27855212\n",
      "201979441\n",
      "pause\n",
      "740318\n",
      "159959858\n",
      "pause\n",
      "289694035\n",
      "26764018\n",
      "Index: 48917\n",
      "Id: 132056017\n",
      "Last id: 185919422\n",
      "pause\n",
      "57809509\n",
      "53824333\n",
      "149635268\n",
      "pause\n",
      "20645942\n",
      "179639014\n",
      "Index: 48922\n",
      "Id: 56385948\n",
      "Last id: 132056017\n",
      "pause\n",
      "pause\n",
      "236951592\n",
      "240040017\n",
      "270333594\n",
      "pause\n",
      "Index: 48925\n",
      "Id: 103490167\n",
      "Last id: 56385948\n",
      "pause\n",
      "Index: 48925\n",
      "Id: 220814153\n",
      "Last id: 103490167\n",
      "pause\n",
      "343318809\n",
      "pause\n",
      "302797853\n",
      "Index: 48927\n",
      "Id: 224084243\n",
      "Last id: 220814153\n",
      "38743222\n",
      "49251483\n",
      "pause\n",
      "Index: 48929\n",
      "Id: 171857122\n",
      "Last id: 224084243\n",
      "155713303\n",
      "45282318\n",
      "202895761\n",
      "156457791\n",
      "228080650\n",
      "pause\n",
      "55400630\n",
      "44492149\n",
      "316633762\n",
      "pause\n",
      "92382616\n",
      "352433094\n",
      "Index: 48939\n",
      "Id: 253257914\n",
      "Last id: 171857122\n",
      "8032969\n",
      "1920805\n",
      "7287407\n",
      "pause\n",
      "1329662\n",
      "94132268\n",
      "120448962\n",
      "pause\n",
      "1270273\n",
      "26775125\n",
      "235327954\n",
      "134996463\n",
      "261750430\n",
      "pause\n",
      "142525499\n",
      "33541266\n",
      "12950766\n",
      "9138082\n",
      "199428143\n",
      "2600032\n",
      "12170743\n",
      "176869173\n",
      "51348870\n",
      "6276215\n",
      "pause\n",
      "249180567\n",
      "299652012\n",
      "38892922\n",
      "24358340\n",
      "279506286\n",
      "35467540\n",
      "2474963\n",
      "46416386\n",
      "238099976\n",
      "pause\n",
      "31604577\n",
      "46110105\n",
      "249697327\n",
      "1079913\n",
      "79124114\n",
      "3594412\n",
      "5479295\n",
      "pause\n",
      "153555871\n",
      "9831177\n",
      "22782583\n",
      "74264004\n",
      "pause\n",
      "6526135\n",
      "314373627\n",
      "9128022\n",
      "7795329\n",
      "160037519\n",
      "49533364\n",
      "249385246\n",
      "pause\n",
      "100041626\n",
      "172602209\n",
      "140551712\n",
      "1482766\n",
      "106906377\n",
      "pause\n",
      "95182941\n",
      "22840978\n",
      "2704486\n",
      "56430790\n",
      "14230899\n",
      "30391489\n",
      "145670551\n",
      "10768060\n",
      "pause\n"
     ]
    }
   ],
   "source": [
    "#file = Path(\"movies\")\n",
    "#if file.is_file():\n",
    "#    data = joblib.load(\"movies\")\n",
    "#else:\n",
    "data = get_data(1, 150000, min_num_of_movies=2)"
   ]
  },
  {
   "cell_type": "code",
   "execution_count": 9,
   "metadata": {
    "collapsed": false
   },
   "outputs": [
    {
     "ename": "NameError",
     "evalue": "name 'data' is not defined",
     "output_type": "error",
     "traceback": [
      "\u001b[1;31m---------------------------------------------------------------------------\u001b[0m",
      "\u001b[1;31mNameError\u001b[0m                                 Traceback (most recent call last)",
      "\u001b[1;32m<ipython-input-9-ac29eefc44f2>\u001b[0m in \u001b[0;36m<module>\u001b[1;34m()\u001b[0m\n\u001b[1;32m----> 1\u001b[1;33m \u001b[0munique_movies\u001b[0m\u001b[1;33m,\u001b[0m \u001b[0mreverse_unique_movies\u001b[0m \u001b[1;33m=\u001b[0m \u001b[0mget_unique_movies\u001b[0m\u001b[1;33m(\u001b[0m\u001b[0mdata\u001b[0m\u001b[1;33m)\u001b[0m\u001b[1;33m\u001b[0m\u001b[0m\n\u001b[0m",
      "\u001b[1;31mNameError\u001b[0m: name 'data' is not defined"
     ]
    }
   ],
   "source": [
    "unique_movies, reverse_unique_movies = get_unique_movies(data)"
   ]
  },
  {
   "cell_type": "code",
   "execution_count": 12,
   "metadata": {
    "collapsed": false,
    "scrolled": true
   },
   "outputs": [
    {
     "name": "stdout",
     "output_type": "stream",
     "text": [
      "\n"
     ]
    }
   ],
   "source": [
    "matrix = construct_matrix(data, unique_movies)"
   ]
  },
  {
   "cell_type": "code",
   "execution_count": 69,
   "metadata": {
    "collapsed": false
   },
   "outputs": [
    {
     "data": {
      "text/plain": [
       "TruncatedSVD(algorithm='randomized', n_components=100, n_iter=5,\n",
       "       random_state=None, tol=0.0)"
      ]
     },
     "execution_count": 69,
     "metadata": {},
     "output_type": "execute_result"
    }
   ],
   "source": [
    "svd = TruncatedSVD(n_components=100)\n",
    "svd.fit(matrix)"
   ]
  },
  {
   "cell_type": "code",
   "execution_count": 82,
   "metadata": {
    "collapsed": true
   },
   "outputs": [],
   "source": [
    "n = 150"
   ]
  },
  {
   "cell_type": "code",
   "execution_count": 83,
   "metadata": {
    "collapsed": false
   },
   "outputs": [],
   "source": [
    "y = svd.inverse_transform(svd.transform(matrix[n].todense()))"
   ]
  },
  {
   "cell_type": "code",
   "execution_count": 84,
   "metadata": {
    "collapsed": false,
    "scrolled": true
   },
   "outputs": [
    {
     "data": {
      "text/plain": [
       "['От заката до рассвета',\n",
       " ' Четыре комнаты',\n",
       " ' Криминальное чтиво',\n",
       " ' Красотка']"
      ]
     },
     "execution_count": 84,
     "metadata": {},
     "output_type": "execute_result"
    }
   ],
   "source": [
    "data[n]"
   ]
  },
  {
   "cell_type": "code",
   "execution_count": 85,
   "metadata": {
    "collapsed": false,
    "scrolled": true
   },
   "outputs": [
    {
     "name": "stdout",
     "output_type": "stream",
     "text": [
      "криминальное чтиво 0.621845261382\n",
      "красотка 0.207618720828\n",
      "большой куш 0.145457958308\n",
      "кокаин 0.121490788789\n",
      "от заката до рассвета 0.103229837498\n",
      "бесславные ублюдки 0.0915110685018\n",
      "шаг вперед 0.0868200444847\n",
      "назад в будущее 0.0815241763867\n",
      "брат 0.0812211152282\n",
      "форрест гамп 0.0731212055936\n"
     ]
    }
   ],
   "source": [
    "for key, value in sorted(enumerate(y[0]), key=lambda x: -x[1])[:10]:\n",
    "    print(reverse_unique_movies[key], value)"
   ]
  },
  {
   "cell_type": "code",
   "execution_count": 45,
   "metadata": {
    "collapsed": false
   },
   "outputs": [],
   "source": [
    "l = y.argsort()[:10]"
   ]
  },
  {
   "cell_type": "markdown",
   "metadata": {},
   "source": [
    "# Кластеризация юзеров "
   ]
  },
  {
   "cell_type": "markdown",
   "metadata": {},
   "source": [
    "## Классификация групп"
   ]
  },
  {
   "cell_type": "code",
   "execution_count": null,
   "metadata": {
    "collapsed": true
   },
   "outputs": [],
   "source": []
  },
  {
   "cell_type": "markdown",
   "metadata": {},
   "source": [
    "## Векторизация юзеров"
   ]
  },
  {
   "cell_type": "code",
   "execution_count": 8,
   "metadata": {
    "collapsed": false
   },
   "outputs": [
    {
     "name": "stdout",
     "output_type": "stream",
     "text": [
      "\n"
     ]
    },
    {
     "name": "stderr",
     "output_type": "stream",
     "text": [
      "Exception in thread Thread-5:\n",
      "Traceback (most recent call last):\n",
      "  File \"/home/mdm/anaconda3/lib/python3.5/threading.py\", line 914, in _bootstrap_inner\n",
      "    self.run()\n",
      "  File \"/home/mdm/anaconda3/lib/python3.5/site-packages/tqdm/_tqdm.py\", line 102, in run\n",
      "    for instance in self.tqdm_cls._instances:\n",
      "  File \"/home/mdm/anaconda3/lib/python3.5/_weakrefset.py\", line 60, in __iter__\n",
      "    for itemref in self.data:\n",
      "RuntimeError: Set changed size during iteration\n",
      "\n"
     ]
    },
    {
     "name": "stdout",
     "output_type": "stream",
     "text": [
      "\n"
     ]
    },
    {
     "data": {
      "text/plain": [
       "['users_info']"
      ]
     },
     "execution_count": 8,
     "metadata": {},
     "output_type": "execute_result"
    }
   ],
   "source": [
    "num_of_blocks = len(data) // 1000 + 1\n",
    "stuff = len(data) % 1000\n",
    "users_info = []\n",
    "for i in tqdm_notebook(range(num_of_blocks)):\n",
    "    if i == i - 1:\n",
    "        users_info.append(vk.get_users_info(data.keys()[i*1000:i*1000 + stuff]))\n",
    "    else:\n",
    "        users_info.append(vk.get_users_info(data.keys()[i*1000:(i+1)*1000]))\n",
    "joblib.dump(users_info, filename=\"users_info\", compress=9)"
   ]
  },
  {
   "cell_type": "code",
   "execution_count": 9,
   "metadata": {
    "collapsed": false
   },
   "outputs": [],
   "source": [
    "def translate_users(users):\n",
    "    info = pd.DataFrame(columns=('Sex', 'Age', 'Country', 'Movie', 'Liked'))\n",
    "    for user in tqdm_notebook(users.keys()):\n",
    "        sex = users[user]['sex']\n",
    "        if sex == 2:\n",
    "            sex = 0\n",
    "        \n",
    "        age = float('NaN')\n",
    "        if 'bdate' in users[user].keys():\n",
    "            ages = users[user]['bdate'].split(\".\")\n",
    "            if len(ages) == 3:\n",
    "                age = 2016 - int(ages[2])\n",
    "        \n",
    "        country = float('NaN')\n",
    "        if 'country' in users[user].keys():\n",
    "            country = users[user]['country']\n",
    "            \n",
    "        movie_set = set()\n",
    "        \n",
    "        if \"movies\" in users[user].keys():\n",
    "            for movie in users[user]['movies'].split(','):\n",
    "                if  unique_movies[unique_movies == movie].size != 0:\n",
    "                    movie_set.add(unique_movies[unique_movies == movie].index[0])\n",
    "            set_len = len(movie_set)\n",
    "            good_scores = [1 for x in range(set_len)]\n",
    "            for i in range(3):\n",
    "                movie_set.add(random.randint(0, unique_movies.size - 1))\n",
    "            bad_scores = [0 for x in range(len(movie_set)-set_len)]\n",
    "            scores = []\n",
    "            good_scores.extend(bad_scores)\n",
    "            scores.extend(good_scores)\n",
    "\n",
    "            movie_set = list(movie_set)\n",
    "\n",
    "            for ind in range(len(scores)):\n",
    "                info.loc[len(info)] = [sex, age, country, movie_set[ind], scores[ind]]\n",
    "    return info"
   ]
  },
  {
   "cell_type": "code",
   "execution_count": 12,
   "metadata": {
    "collapsed": false,
    "scrolled": true
   },
   "outputs": [
    {
     "name": "stdout",
     "output_type": "stream",
     "text": [
      "\n",
      "\n",
      "\n"
     ]
    },
    {
     "ename": "KeyboardInterrupt",
     "evalue": "",
     "output_type": "error",
     "traceback": [
      "\u001b[1;31m---------------------------------------------------------------------------\u001b[0m",
      "\u001b[1;31mKeyboardInterrupt\u001b[0m                         Traceback (most recent call last)",
      "\u001b[1;32m<ipython-input-12-cee84a75363c>\u001b[0m in \u001b[0;36m<module>\u001b[1;34m()\u001b[0m\n\u001b[0;32m      3\u001b[0m \u001b[1;32mfor\u001b[0m \u001b[0mi\u001b[0m \u001b[1;32min\u001b[0m \u001b[0mrange\u001b[0m\u001b[1;33m(\u001b[0m\u001b[0mlen\u001b[0m\u001b[1;33m(\u001b[0m\u001b[0musers_info\u001b[0m\u001b[1;33m)\u001b[0m\u001b[1;33m-\u001b[0m\u001b[0mlen\u001b[0m\u001b[1;33m(\u001b[0m\u001b[0md\u001b[0m\u001b[1;33m)\u001b[0m\u001b[1;33m)\u001b[0m\u001b[1;33m:\u001b[0m\u001b[1;33m\u001b[0m\u001b[0m\n\u001b[0;32m      4\u001b[0m     \u001b[0mi\u001b[0m \u001b[1;33m+=\u001b[0m \u001b[0mlen\u001b[0m\u001b[1;33m(\u001b[0m\u001b[0md\u001b[0m\u001b[1;33m)\u001b[0m\u001b[1;33m\u001b[0m\u001b[0m\n\u001b[1;32m----> 5\u001b[1;33m     \u001b[0md\u001b[0m\u001b[1;33m.\u001b[0m\u001b[0mappend\u001b[0m\u001b[1;33m(\u001b[0m\u001b[0mtranslate_users\u001b[0m\u001b[1;33m(\u001b[0m\u001b[0musers_info\u001b[0m\u001b[1;33m[\u001b[0m\u001b[0mi\u001b[0m\u001b[1;33m]\u001b[0m\u001b[1;33m)\u001b[0m\u001b[1;33m)\u001b[0m\u001b[1;33m\u001b[0m\u001b[0m\n\u001b[0m\u001b[0;32m      6\u001b[0m     \u001b[0mjoblib\u001b[0m\u001b[1;33m.\u001b[0m\u001b[0mdump\u001b[0m\u001b[1;33m(\u001b[0m\u001b[0md\u001b[0m\u001b[1;33m,\u001b[0m \u001b[0mfilename\u001b[0m\u001b[1;33m=\u001b[0m\u001b[1;34m\"information\"\u001b[0m\u001b[1;33m,\u001b[0m \u001b[0mcompress\u001b[0m\u001b[1;33m=\u001b[0m\u001b[1;36m9\u001b[0m\u001b[1;33m)\u001b[0m\u001b[1;33m\u001b[0m\u001b[0m\n",
      "\u001b[1;32m<ipython-input-9-da3b92eb185c>\u001b[0m in \u001b[0;36mtranslate_users\u001b[1;34m(users)\u001b[0m\n\u001b[0;32m     20\u001b[0m         \u001b[1;32mif\u001b[0m \u001b[1;34m\"movies\"\u001b[0m \u001b[1;32min\u001b[0m \u001b[0musers\u001b[0m\u001b[1;33m[\u001b[0m\u001b[0muser\u001b[0m\u001b[1;33m]\u001b[0m\u001b[1;33m.\u001b[0m\u001b[0mkeys\u001b[0m\u001b[1;33m(\u001b[0m\u001b[1;33m)\u001b[0m\u001b[1;33m:\u001b[0m\u001b[1;33m\u001b[0m\u001b[0m\n\u001b[0;32m     21\u001b[0m             \u001b[1;32mfor\u001b[0m \u001b[0mmovie\u001b[0m \u001b[1;32min\u001b[0m \u001b[0musers\u001b[0m\u001b[1;33m[\u001b[0m\u001b[0muser\u001b[0m\u001b[1;33m]\u001b[0m\u001b[1;33m[\u001b[0m\u001b[1;34m'movies'\u001b[0m\u001b[1;33m]\u001b[0m\u001b[1;33m.\u001b[0m\u001b[0msplit\u001b[0m\u001b[1;33m(\u001b[0m\u001b[1;34m','\u001b[0m\u001b[1;33m)\u001b[0m\u001b[1;33m:\u001b[0m\u001b[1;33m\u001b[0m\u001b[0m\n\u001b[1;32m---> 22\u001b[1;33m                 \u001b[1;32mif\u001b[0m  \u001b[0munique_movies\u001b[0m\u001b[1;33m[\u001b[0m\u001b[0munique_movies\u001b[0m \u001b[1;33m==\u001b[0m \u001b[0mmovie\u001b[0m\u001b[1;33m]\u001b[0m\u001b[1;33m.\u001b[0m\u001b[0msize\u001b[0m \u001b[1;33m!=\u001b[0m \u001b[1;36m0\u001b[0m\u001b[1;33m:\u001b[0m\u001b[1;33m\u001b[0m\u001b[0m\n\u001b[0m\u001b[0;32m     23\u001b[0m                     \u001b[0mmovie_set\u001b[0m\u001b[1;33m.\u001b[0m\u001b[0madd\u001b[0m\u001b[1;33m(\u001b[0m\u001b[0munique_movies\u001b[0m\u001b[1;33m[\u001b[0m\u001b[0munique_movies\u001b[0m \u001b[1;33m==\u001b[0m \u001b[0mmovie\u001b[0m\u001b[1;33m]\u001b[0m\u001b[1;33m.\u001b[0m\u001b[0mindex\u001b[0m\u001b[1;33m[\u001b[0m\u001b[1;36m0\u001b[0m\u001b[1;33m]\u001b[0m\u001b[1;33m)\u001b[0m\u001b[1;33m\u001b[0m\u001b[0m\n\u001b[0;32m     24\u001b[0m             \u001b[0mset_len\u001b[0m \u001b[1;33m=\u001b[0m \u001b[0mlen\u001b[0m\u001b[1;33m(\u001b[0m\u001b[0mmovie_set\u001b[0m\u001b[1;33m)\u001b[0m\u001b[1;33m\u001b[0m\u001b[0m\n",
      "\u001b[1;32m/home/mdm/anaconda3/lib/python3.5/site-packages/pandas/core/ops.py\u001b[0m in \u001b[0;36mwrapper\u001b[1;34m(self, other, axis)\u001b[0m\n\u001b[0;32m    761\u001b[0m                 \u001b[0mother\u001b[0m \u001b[1;33m=\u001b[0m \u001b[0mnp\u001b[0m\u001b[1;33m.\u001b[0m\u001b[0masarray\u001b[0m\u001b[1;33m(\u001b[0m\u001b[0mother\u001b[0m\u001b[1;33m)\u001b[0m\u001b[1;33m\u001b[0m\u001b[0m\n\u001b[0;32m    762\u001b[0m \u001b[1;33m\u001b[0m\u001b[0m\n\u001b[1;32m--> 763\u001b[1;33m             \u001b[0mres\u001b[0m \u001b[1;33m=\u001b[0m \u001b[0mna_op\u001b[0m\u001b[1;33m(\u001b[0m\u001b[0mvalues\u001b[0m\u001b[1;33m,\u001b[0m \u001b[0mother\u001b[0m\u001b[1;33m)\u001b[0m\u001b[1;33m\u001b[0m\u001b[0m\n\u001b[0m\u001b[0;32m    764\u001b[0m             \u001b[1;32mif\u001b[0m \u001b[0misscalar\u001b[0m\u001b[1;33m(\u001b[0m\u001b[0mres\u001b[0m\u001b[1;33m)\u001b[0m\u001b[1;33m:\u001b[0m\u001b[1;33m\u001b[0m\u001b[0m\n\u001b[0;32m    765\u001b[0m                 raise TypeError('Could not compare %s type with Series' %\n",
      "\u001b[1;32m/home/mdm/anaconda3/lib/python3.5/site-packages/pandas/core/ops.py\u001b[0m in \u001b[0;36mna_op\u001b[1;34m(x, y)\u001b[0m\n\u001b[0;32m    681\u001b[0m                     \u001b[0mresult\u001b[0m \u001b[1;33m=\u001b[0m \u001b[0mlib\u001b[0m\u001b[1;33m.\u001b[0m\u001b[0mvec_compare\u001b[0m\u001b[1;33m(\u001b[0m\u001b[0mx\u001b[0m\u001b[1;33m,\u001b[0m \u001b[0my\u001b[0m\u001b[1;33m,\u001b[0m \u001b[0mop\u001b[0m\u001b[1;33m)\u001b[0m\u001b[1;33m\u001b[0m\u001b[0m\n\u001b[0;32m    682\u001b[0m             \u001b[1;32melse\u001b[0m\u001b[1;33m:\u001b[0m\u001b[1;33m\u001b[0m\u001b[0m\n\u001b[1;32m--> 683\u001b[1;33m                 \u001b[0mresult\u001b[0m \u001b[1;33m=\u001b[0m \u001b[0mlib\u001b[0m\u001b[1;33m.\u001b[0m\u001b[0mscalar_compare\u001b[0m\u001b[1;33m(\u001b[0m\u001b[0mx\u001b[0m\u001b[1;33m,\u001b[0m \u001b[0my\u001b[0m\u001b[1;33m,\u001b[0m \u001b[0mop\u001b[0m\u001b[1;33m)\u001b[0m\u001b[1;33m\u001b[0m\u001b[0m\n\u001b[0m\u001b[0;32m    684\u001b[0m         \u001b[1;32melse\u001b[0m\u001b[1;33m:\u001b[0m\u001b[1;33m\u001b[0m\u001b[0m\n\u001b[0;32m    685\u001b[0m \u001b[1;33m\u001b[0m\u001b[0m\n",
      "\u001b[1;31mKeyboardInterrupt\u001b[0m: "
     ]
    }
   ],
   "source": [
    "info = pd.DataFrame(columns=('Sex', 'Age', 'Country', 'Movie', 'Liked'))\n",
    "d=[]\n",
    "for i in range(len(users_info)-len(d)):\n",
    "    i += len(d)\n",
    "    d.append(translate_users(users_info[i]))\n",
    "    joblib.dump(d, filename=\"information\", compress=9)"
   ]
  }
 ],
 "metadata": {
  "anaconda-cloud": {},
  "kernelspec": {
   "display_name": "Python [Root]",
   "language": "python",
   "name": "Python [Root]"
  },
  "language_info": {
   "codemirror_mode": {
    "name": "ipython",
    "version": 3
   },
   "file_extension": ".py",
   "mimetype": "text/x-python",
   "name": "python",
   "nbconvert_exporter": "python",
   "pygments_lexer": "ipython3",
   "version": "3.5.2"
  }
 },
 "nbformat": 4,
 "nbformat_minor": 0
}
