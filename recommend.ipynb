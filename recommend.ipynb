{
 "cells": [
  {
   "cell_type": "markdown",
   "metadata": {},
   "source": [
    "# recommendMe"
   ]
  },
  {
   "cell_type": "code",
   "execution_count": 13,
   "metadata": {
    "collapsed": true
   },
   "outputs": [],
   "source": [
    "import vk\n",
    "import pandas as pd\n",
    "import random\n",
    "import time\n",
    "from sklearn.externals import joblib\n",
    "from scipy.sparse import csr_matrix\n",
    "from pathlib import Path\n",
    "from sklearn.decomposition import TruncatedSVD\n",
    "from tqdm import tqdm_notebook\n",
    "import requests"
   ]
  },
  {
   "cell_type": "markdown",
   "metadata": {},
   "source": [
    "## Получаем информацию о юзерах, у которых указано больше N любимых фильмов"
   ]
  },
  {
   "cell_type": "code",
   "execution_count": 2,
   "metadata": {
    "collapsed": true
   },
   "outputs": [],
   "source": [
    "def get_data(id, n, min_num_of_movies=3):\n",
    "    \n",
    "    movies = pd.Series()\n",
    "    \n",
    "    file = Path(\"id\")\n",
    "    if file.is_file():\n",
    "        id = joblib.load(\"id\")\n",
    "        movies = joblib.load(\"movies\")\n",
    "    last_id = 0\n",
    "    count = 0\n",
    "    \n",
    "    while movies.size < n:\n",
    "        \n",
    "        f = vk.get_friends(str(id))\n",
    "        \n",
    "        friends = []\n",
    "        for x in f:\n",
    "            friends.append(str(x))\n",
    "        \n",
    "        user_info = vk.get_users_info(friends)\n",
    "        \n",
    "        for friend in user_info.keys():\n",
    "            if movies.size >= n:\n",
    "                break\n",
    "            \n",
    "            try:\n",
    "                if count == 100:\n",
    "                    print(\"pause\")\n",
    "                    #time.sleep(5)\n",
    "                    count = 0\n",
    "                else:\n",
    "                    count += 1\n",
    "                    \n",
    "                \n",
    "\n",
    "                if (\"movies\" in user_info[friend].keys() \n",
    "                    and len(user_info[friend][\"movies\"].split(\",\")) >= min_num_of_movies\n",
    "                    and not friend in movies.keys()\n",
    "                    and len(friends) >= 5):\n",
    "                    if movies.shape[0] % 20 == 0:\n",
    "                        joblib.dump(movies, filename=\"movies\", compress=9)\n",
    "                        joblib.dump(friend, filename=\"id\", compress=9)\n",
    "                    movies.set_value(friend, user_info[friend][\"movies\"].split(\",\"))\n",
    "                    print(friend)\n",
    "            except:\n",
    "                pass\n",
    "        print(\"Index: \" + str(movies.shape[0]))\n",
    "        print(\"Id: \" + str(id))\n",
    "        print(\"Last id: \" + str(last_id))\n",
    "        if movies.size < n:\n",
    "            last_id = id\n",
    "            while True: \n",
    "                ind = random.randint(0, len(friends)-1)\n",
    "                if (len(vk.get_friends(friends[ind])) >= 5\n",
    "                    and last_id != friends[ind]):\n",
    "                    id = friends[ind]\n",
    "                    break\n",
    "            \n",
    "    return movies"
   ]
  },
  {
   "cell_type": "markdown",
   "metadata": {},
   "source": [
    "## Получаем список уникальных фильмов"
   ]
  },
  {
   "cell_type": "code",
   "execution_count": 3,
   "metadata": {
    "collapsed": true
   },
   "outputs": [],
   "source": [
    "def get_unique_movies(data):\n",
    "    unique_movies = set()\n",
    "    for movies in tqdm_notebook(data):\n",
    "        for movie in movies:        \n",
    "            unique_movies.add(movie)\n",
    "    return pd.Series(list(unique_movies))"
   ]
  },
  {
   "cell_type": "markdown",
   "metadata": {},
   "source": [
    "## Создаем матрицу"
   ]
  },
  {
   "cell_type": "code",
   "execution_count": 4,
   "metadata": {
    "collapsed": false
   },
   "outputs": [],
   "source": [
    "def construct_matrix(data, unique_movies):\n",
    "    row = []\n",
    "    column = []\n",
    "\n",
    "    for user in tqdm_notebook(data.keys()):\n",
    "        for movie in data[user]:\n",
    "            row.append(user)\n",
    "            column.append(unique_movies[unique_movies == movie].index[0])\n",
    "    ones = [1 for x in range(len(row))]\n",
    "    \n",
    "    joblib.dump(row, filename=\"row\", compress=9)\n",
    "    joblib.dump(column, filename=\"column\", compress=9)\n",
    "    print(len(row), len(data))\n",
    "\n",
    "    movies_matrix = csr_matrix((ones, (row, column)), \\\n",
    "                               shape=(len(data), len(unique_movies)))\n",
    "    \n",
    "    a = movies_matrix.toarray()\n",
    "    \n",
    "    bad_indexes = [x for x in range(len(a))]\n",
    "    while len(bad_indexes) != 0:\n",
    "        maxes = a.argmax(1)\n",
    "        for index in bad_indexes:\n",
    "            if (a[index][maxes[index]] == 1):\n",
    "                del bad_indexes[bad_indexes.index(index)]\n",
    "            else:\n",
    "                a[index][maxes[index]] = 1\n",
    "    \n",
    "    movies_matrix = csr_matrix(a)\n",
    "    \n",
    "    return movies_matrix"
   ]
  },
  {
   "cell_type": "markdown",
   "metadata": {},
   "source": [
    "# Коллаборативная фильтрация"
   ]
  },
  {
   "cell_type": "code",
   "execution_count": 5,
   "metadata": {
    "collapsed": false,
    "scrolled": true
   },
   "outputs": [],
   "source": [
    "file = Path(\"movies\")\n",
    "if file.is_file():\n",
    "    data = joblib.load(\"movies\")\n",
    "else:\n",
    "    data = get_data(1, 100000, min_num_of_movies=2)"
   ]
  },
  {
   "cell_type": "code",
   "execution_count": 6,
   "metadata": {
    "collapsed": false
   },
   "outputs": [
    {
     "name": "stdout",
     "output_type": "stream",
     "text": [
      "\n"
     ]
    }
   ],
   "source": [
    "unique_movies = get_unique_movies(data)"
   ]
  },
  {
   "cell_type": "code",
   "execution_count": 69,
   "metadata": {
    "collapsed": false,
    "scrolled": true
   },
   "outputs": [
    {
     "name": "stdout",
     "output_type": "stream",
     "text": [
      "\n",
      "355672 42180\n"
     ]
    },
    {
     "ename": "ValueError",
     "evalue": "row index exceeds matrix dimensions",
     "output_type": "error",
     "traceback": [
      "\u001b[1;31m---------------------------------------------------------------------------\u001b[0m",
      "\u001b[1;31mValueError\u001b[0m                                Traceback (most recent call last)",
      "\u001b[1;32m<ipython-input-69-e0b93484f75f>\u001b[0m in \u001b[0;36m<module>\u001b[1;34m()\u001b[0m\n\u001b[1;32m----> 1\u001b[1;33m \u001b[0mmatrix\u001b[0m \u001b[1;33m=\u001b[0m \u001b[0mconstruct_matrix\u001b[0m\u001b[1;33m(\u001b[0m\u001b[0mdata\u001b[0m\u001b[1;33m,\u001b[0m \u001b[0munique_movies\u001b[0m\u001b[1;33m)\u001b[0m\u001b[1;33m\u001b[0m\u001b[0m\n\u001b[0m",
      "\u001b[1;32m<ipython-input-66-48aa6f3cf261>\u001b[0m in \u001b[0;36mconstruct_matrix\u001b[1;34m(data, unique_movies)\u001b[0m\n\u001b[0;32m     13\u001b[0m     \u001b[0mprint\u001b[0m\u001b[1;33m(\u001b[0m\u001b[0mlen\u001b[0m\u001b[1;33m(\u001b[0m\u001b[0mrow\u001b[0m\u001b[1;33m)\u001b[0m\u001b[1;33m,\u001b[0m \u001b[0mlen\u001b[0m\u001b[1;33m(\u001b[0m\u001b[0mdata\u001b[0m\u001b[1;33m)\u001b[0m\u001b[1;33m)\u001b[0m\u001b[1;33m\u001b[0m\u001b[0m\n\u001b[0;32m     14\u001b[0m \u001b[1;33m\u001b[0m\u001b[0m\n\u001b[1;32m---> 15\u001b[1;33m     \u001b[0mmovies_matrix\u001b[0m \u001b[1;33m=\u001b[0m \u001b[0mcsr_matrix\u001b[0m\u001b[1;33m(\u001b[0m\u001b[1;33m(\u001b[0m\u001b[0mones\u001b[0m\u001b[1;33m,\u001b[0m \u001b[1;33m(\u001b[0m\u001b[0mrow\u001b[0m\u001b[1;33m,\u001b[0m \u001b[0mcolumn\u001b[0m\u001b[1;33m)\u001b[0m\u001b[1;33m)\u001b[0m\u001b[1;33m,\u001b[0m                                \u001b[0mshape\u001b[0m\u001b[1;33m=\u001b[0m\u001b[1;33m(\u001b[0m\u001b[0mlen\u001b[0m\u001b[1;33m(\u001b[0m\u001b[0mdata\u001b[0m\u001b[1;33m)\u001b[0m\u001b[1;33m,\u001b[0m \u001b[0mlen\u001b[0m\u001b[1;33m(\u001b[0m\u001b[0munique_movies\u001b[0m\u001b[1;33m)\u001b[0m\u001b[1;33m)\u001b[0m\u001b[1;33m)\u001b[0m\u001b[1;33m\u001b[0m\u001b[0m\n\u001b[0m\u001b[0;32m     16\u001b[0m \u001b[1;33m\u001b[0m\u001b[0m\n\u001b[0;32m     17\u001b[0m     \u001b[0ma\u001b[0m \u001b[1;33m=\u001b[0m \u001b[0mmovies_matrix\u001b[0m\u001b[1;33m.\u001b[0m\u001b[0mtoarray\u001b[0m\u001b[1;33m(\u001b[0m\u001b[1;33m)\u001b[0m\u001b[1;33m\u001b[0m\u001b[0m\n",
      "\u001b[1;32m/home/mdm/anaconda3/lib/python3.5/site-packages/scipy/sparse/compressed.py\u001b[0m in \u001b[0;36m__init__\u001b[1;34m(self, arg1, shape, dtype, copy)\u001b[0m\n\u001b[0;32m     46\u001b[0m                     \u001b[1;31m# (data, ij) format\u001b[0m\u001b[1;33m\u001b[0m\u001b[1;33m\u001b[0m\u001b[0m\n\u001b[0;32m     47\u001b[0m                     \u001b[1;32mfrom\u001b[0m \u001b[1;33m.\u001b[0m\u001b[0mcoo\u001b[0m \u001b[1;32mimport\u001b[0m \u001b[0mcoo_matrix\u001b[0m\u001b[1;33m\u001b[0m\u001b[0m\n\u001b[1;32m---> 48\u001b[1;33m                     \u001b[0mother\u001b[0m \u001b[1;33m=\u001b[0m \u001b[0mself\u001b[0m\u001b[1;33m.\u001b[0m\u001b[0m__class__\u001b[0m\u001b[1;33m(\u001b[0m\u001b[0mcoo_matrix\u001b[0m\u001b[1;33m(\u001b[0m\u001b[0marg1\u001b[0m\u001b[1;33m,\u001b[0m \u001b[0mshape\u001b[0m\u001b[1;33m=\u001b[0m\u001b[0mshape\u001b[0m\u001b[1;33m)\u001b[0m\u001b[1;33m)\u001b[0m\u001b[1;33m\u001b[0m\u001b[0m\n\u001b[0m\u001b[0;32m     49\u001b[0m                     \u001b[0mself\u001b[0m\u001b[1;33m.\u001b[0m\u001b[0m_set_self\u001b[0m\u001b[1;33m(\u001b[0m\u001b[0mother\u001b[0m\u001b[1;33m)\u001b[0m\u001b[1;33m\u001b[0m\u001b[0m\n\u001b[0;32m     50\u001b[0m                 \u001b[1;32melif\u001b[0m \u001b[0mlen\u001b[0m\u001b[1;33m(\u001b[0m\u001b[0marg1\u001b[0m\u001b[1;33m)\u001b[0m \u001b[1;33m==\u001b[0m \u001b[1;36m3\u001b[0m\u001b[1;33m:\u001b[0m\u001b[1;33m\u001b[0m\u001b[0m\n",
      "\u001b[1;32m/home/mdm/anaconda3/lib/python3.5/site-packages/scipy/sparse/coo.py\u001b[0m in \u001b[0;36m__init__\u001b[1;34m(self, arg1, shape, dtype, copy)\u001b[0m\n\u001b[0;32m    180\u001b[0m             \u001b[0mself\u001b[0m\u001b[1;33m.\u001b[0m\u001b[0mdata\u001b[0m \u001b[1;33m=\u001b[0m \u001b[0mself\u001b[0m\u001b[1;33m.\u001b[0m\u001b[0mdata\u001b[0m\u001b[1;33m.\u001b[0m\u001b[0mastype\u001b[0m\u001b[1;33m(\u001b[0m\u001b[0mdtype\u001b[0m\u001b[1;33m)\u001b[0m\u001b[1;33m\u001b[0m\u001b[0m\n\u001b[0;32m    181\u001b[0m \u001b[1;33m\u001b[0m\u001b[0m\n\u001b[1;32m--> 182\u001b[1;33m         \u001b[0mself\u001b[0m\u001b[1;33m.\u001b[0m\u001b[0m_check\u001b[0m\u001b[1;33m(\u001b[0m\u001b[1;33m)\u001b[0m\u001b[1;33m\u001b[0m\u001b[0m\n\u001b[0m\u001b[0;32m    183\u001b[0m \u001b[1;33m\u001b[0m\u001b[0m\n\u001b[0;32m    184\u001b[0m     \u001b[1;32mdef\u001b[0m \u001b[0mgetnnz\u001b[0m\u001b[1;33m(\u001b[0m\u001b[0mself\u001b[0m\u001b[1;33m,\u001b[0m \u001b[0maxis\u001b[0m\u001b[1;33m=\u001b[0m\u001b[1;32mNone\u001b[0m\u001b[1;33m)\u001b[0m\u001b[1;33m:\u001b[0m\u001b[1;33m\u001b[0m\u001b[0m\n",
      "\u001b[1;32m/home/mdm/anaconda3/lib/python3.5/site-packages/scipy/sparse/coo.py\u001b[0m in \u001b[0;36m_check\u001b[1;34m(self)\u001b[0m\n\u001b[0;32m    234\u001b[0m         \u001b[1;32mif\u001b[0m \u001b[0mnnz\u001b[0m \u001b[1;33m>\u001b[0m \u001b[1;36m0\u001b[0m\u001b[1;33m:\u001b[0m\u001b[1;33m\u001b[0m\u001b[0m\n\u001b[0;32m    235\u001b[0m             \u001b[1;32mif\u001b[0m \u001b[0mself\u001b[0m\u001b[1;33m.\u001b[0m\u001b[0mrow\u001b[0m\u001b[1;33m.\u001b[0m\u001b[0mmax\u001b[0m\u001b[1;33m(\u001b[0m\u001b[1;33m)\u001b[0m \u001b[1;33m>=\u001b[0m \u001b[0mself\u001b[0m\u001b[1;33m.\u001b[0m\u001b[0mshape\u001b[0m\u001b[1;33m[\u001b[0m\u001b[1;36m0\u001b[0m\u001b[1;33m]\u001b[0m\u001b[1;33m:\u001b[0m\u001b[1;33m\u001b[0m\u001b[0m\n\u001b[1;32m--> 236\u001b[1;33m                 \u001b[1;32mraise\u001b[0m \u001b[0mValueError\u001b[0m\u001b[1;33m(\u001b[0m\u001b[1;34m'row index exceeds matrix dimensions'\u001b[0m\u001b[1;33m)\u001b[0m\u001b[1;33m\u001b[0m\u001b[0m\n\u001b[0m\u001b[0;32m    237\u001b[0m             \u001b[1;32mif\u001b[0m \u001b[0mself\u001b[0m\u001b[1;33m.\u001b[0m\u001b[0mcol\u001b[0m\u001b[1;33m.\u001b[0m\u001b[0mmax\u001b[0m\u001b[1;33m(\u001b[0m\u001b[1;33m)\u001b[0m \u001b[1;33m>=\u001b[0m \u001b[0mself\u001b[0m\u001b[1;33m.\u001b[0m\u001b[0mshape\u001b[0m\u001b[1;33m[\u001b[0m\u001b[1;36m1\u001b[0m\u001b[1;33m]\u001b[0m\u001b[1;33m:\u001b[0m\u001b[1;33m\u001b[0m\u001b[0m\n\u001b[0;32m    238\u001b[0m                 \u001b[1;32mraise\u001b[0m \u001b[0mValueError\u001b[0m\u001b[1;33m(\u001b[0m\u001b[1;34m'column index exceeds matrix dimensions'\u001b[0m\u001b[1;33m)\u001b[0m\u001b[1;33m\u001b[0m\u001b[0m\n",
      "\u001b[1;31mValueError\u001b[0m: row index exceeds matrix dimensions"
     ]
    }
   ],
   "source": [
    "matrix = construct_matrix(data, unique_movies)"
   ]
  },
  {
   "cell_type": "code",
   "execution_count": 218,
   "metadata": {
    "collapsed": false
   },
   "outputs": [
    {
     "data": {
      "text/plain": [
       "TruncatedSVD(algorithm='randomized', n_components=2, n_iter=5,\n",
       "       random_state=None, tol=0.0)"
      ]
     },
     "execution_count": 218,
     "metadata": {},
     "output_type": "execute_result"
    }
   ],
   "source": [
    "svd = TruncatedSVD()\n",
    "svd.fit(matrix)"
   ]
  },
  {
   "cell_type": "code",
   "execution_count": 243,
   "metadata": {
    "collapsed": false
   },
   "outputs": [],
   "source": [
    "y = svd.inverse_transform(svd.transform(matrix.todense()[5]))"
   ]
  },
  {
   "cell_type": "code",
   "execution_count": 242,
   "metadata": {
    "collapsed": false,
    "scrolled": true
   },
   "outputs": [
    {
     "data": {
      "text/plain": [
       "['Ванильное небо',\n",
       " ' Дом у озера',\n",
       " ' Двухсотлетний человек',\n",
       " ' Побег из Шоушенка',\n",
       " ' Зеленая миля',\n",
       " ' Бой с тенью ...продолжение следует']"
      ]
     },
     "execution_count": 242,
     "metadata": {},
     "output_type": "execute_result"
    }
   ],
   "source": [
    "data[5]"
   ]
  },
  {
   "cell_type": "code",
   "execution_count": 244,
   "metadata": {
    "collapsed": false,
    "scrolled": true
   },
   "outputs": [
    {
     "name": "stdout",
     "output_type": "stream",
     "text": [
      " Такси 2\n",
      " \" \"Дворовые танцы\"\n",
      " 2\n",
      " 3\n",
      " Побег из Шоушенка\n",
      " Бойцовский клуб\n",
      " Зеленая миля\n",
      " Достучаться до небес\n",
      " 4\n",
      " Игры разума\n",
      " Матрица\n",
      " \n",
      " Гладиатор\n",
      " Начало\n",
      " Реквием по мечте\n",
      " Властелин колец\n",
      " Форест Гамп\n",
      " Эффект бабочки\n",
      " 1+1\n",
      " Форрест Гамп\n",
      " Список Шиндлера\n",
      " Леон\n",
      " В погоне за счастьем\n",
      " Амели\n",
      " Жизнь прекрасна\n",
      " Криминальное чтиво\n",
      " Назад в будущее\n",
      " Вечное сияние чистого разума\n",
      " Престиж\n",
      " Молчание ягнят\n",
      " Спеши любить\n",
      " Аватар\n",
      " Пианист\n",
      " 5\n",
      " Пролетая над гнездом кукушки\n",
      " Титаник\n",
      " Секрет\n",
      " Крестный отец\n",
      " Время\n",
      " Отступники\n",
      " Семь\n",
      " Заплати другому\n",
      " Дневник памяти\n",
      " Троя\n",
      " Ванильное небо\n",
      " Иван Васильевич меняет профессию\n",
      " Остров проклятых\n",
      " Сумерки\n",
      " 2012\n",
      " Один дома\n",
      " Служебный роман\n",
      " Славные парни\n",
      " Трасса 60\n",
      " Форсаж\n",
      " Куда приводят мечты\n",
      " деньги\n",
      " Бриллиантовая рука\n",
      " Большой куш\n",
      " Унесённые призраками\n",
      " Иллюзионист\n",
      " Поймай меня если сможешь\n",
      " 12\n",
      " Семь жизней\n",
      " Мирный воин\n",
      " 6\n",
      " Апокалипсис сегодня\n",
      " Остров\n",
      " Карты\n",
      " Храброе сердце\n",
      " Социальная сеть\n",
      " 99 франков\n",
      " Трансформеры\n",
      " День сурка\n",
      " В джазе только девушки\n",
      " Рок-волна\n",
      " Авиатор\n",
      " Адвокат дьявола\n",
      " Лицо со шрамом\n",
      " Мулен Руж\n",
      " Запах женщины\n",
      " Догма\n",
      " Гарри Поттер\n",
      " Телохранитель\n",
      " ¶¶¶¶¶¶¶¶¶¶¶¶¶¶¶¶rґґґґr¶¶¶¶¶rrrrrrrr¶¶¶¶¶¶¶¶¶¶¶¶¶¶¶\n",
      " ¶¶¶¶¶¶¶¶¶¶¶¶¶¶¶ґґґґґґґґґґґґґrrrrrrrr¶¶¶¶¶¶¶¶¶¶¶¶¶¶\n",
      " ¶¶¶¶¶¶¶¶¶¶rrrrrґґґґґґґґґґґґґґrrrrr¶¶¶¶¶¶¶¶¶¶¶¶¶¶¶¶\n",
      " ¶¶¶¶¶¶rrr¶¶¶¶¶¶ґґґґґґґrrrrrґґґґґґґґґґґr¶¶¶¶¶¶¶¶¶¶¶\n",
      " ¶¶¶¶¶¶¶¶¶¶¶¶¶¶¶¶¶rґґ¶¶¶¶¶¶¶¶¶¶rrr¶¶¶¶¶¶¶¶¶¶¶¶¶¶¶¶¶\n",
      " ¶¶¶¶¶¶¶¶¶¶¶¶¶¶¶¶¶¶¶¶¶¶¶¶¶¶ґr¶¶¶¶¶¶ґr¶¶¶¶¶¶¶¶¶¶¶¶¶¶\n",
      " ¶¶¶¶¶¶¶¶¶¶¶¶¶¶¶¶¶¶rґr¶¶¶¶¶¶¶¶¶¶rrr¶¶¶¶¶¶¶¶¶¶¶¶¶¶¶¶\n",
      " ¶¶¶¶¶¶¶¶¶¶¶¶¶¶¶¶¶¶¶rґr¶¶¶¶¶¶¶¶¶¶¶ґr¶¶¶¶¶¶¶¶¶¶¶¶¶¶¶\n",
      " ¶¶¶¶¶¶¶¶¶¶¶¶¶¶¶¶¶¶¶¶¶ґr¶¶¶¶¶¶¶¶¶¶ґґ¶¶¶¶¶¶¶¶¶¶¶¶¶¶¶\n",
      " ¶¶¶¶¶¶¶¶¶¶¶¶¶¶¶¶¶¶¶¶¶¶ґґ¶¶¶¶¶¶¶¶¶rґ¶¶¶¶¶¶¶¶¶¶¶¶¶¶¶\n",
      " ¶¶¶¶¶¶¶¶¶¶¶¶¶¶¶¶¶¶¶¶¶¶¶rґ¶¶¶¶¶¶¶¶¶ґr¶¶¶¶¶¶¶¶¶¶¶¶¶¶\n",
      " ¶¶¶¶¶¶¶rґґr¶¶¶¶¶¶rґґґґґґr¶¶¶¶¶¶¶¶¶¶¶¶ґґrr¶¶¶¶¶¶¶¶¶\n",
      " ¶¶¶¶¶¶¶¶¶¶¶¶¶¶¶¶¶¶¶¶¶¶¶¶¶¶¶ґґ¶¶¶¶¶ґr¶¶¶¶¶¶¶¶¶¶¶¶¶¶\n",
      " ¶¶¶¶¶¶rґr¶¶¶¶¶¶¶rґґґrґrrґґґr¶¶¶¶¶¶¶rґґrrr¶¶¶¶¶¶¶¶¶\n",
      " ¶¶¶¶¶¶¶¶¶¶¶¶¶¶¶¶¶¶¶¶¶¶¶¶¶¶¶¶ґґ¶¶¶ґґ¶¶¶¶¶¶¶¶¶¶¶¶¶¶¶\n",
      " ¶¶¶¶¶¶¶¶rґґr¶¶¶¶¶¶ґґґґr¶¶¶¶¶¶¶¶¶¶¶¶ґґґrrr¶¶¶¶¶¶¶¶¶\n",
      " ¶¶¶¶¶¶¶¶¶ґґґr¶¶¶¶ґґґr¶¶¶¶¶¶rrrrrrrrrrrr¶¶¶¶¶¶¶¶¶¶¶\n"
     ]
    }
   ],
   "source": [
    "for i in range (100):\n",
    "    print(unique_movies[y.argsort()[0][len(y.argsort())-i]])"
   ]
  },
  {
   "cell_type": "markdown",
   "metadata": {},
   "source": [
    "# Векторизация юзеров "
   ]
  },
  {
   "cell_type": "code",
   "execution_count": 8,
   "metadata": {
    "collapsed": false
   },
   "outputs": [
    {
     "name": "stdout",
     "output_type": "stream",
     "text": [
      "\n"
     ]
    },
    {
     "name": "stderr",
     "output_type": "stream",
     "text": [
      "Exception in thread Thread-5:\n",
      "Traceback (most recent call last):\n",
      "  File \"/home/mdm/anaconda3/lib/python3.5/threading.py\", line 914, in _bootstrap_inner\n",
      "    self.run()\n",
      "  File \"/home/mdm/anaconda3/lib/python3.5/site-packages/tqdm/_tqdm.py\", line 102, in run\n",
      "    for instance in self.tqdm_cls._instances:\n",
      "  File \"/home/mdm/anaconda3/lib/python3.5/_weakrefset.py\", line 60, in __iter__\n",
      "    for itemref in self.data:\n",
      "RuntimeError: Set changed size during iteration\n",
      "\n"
     ]
    },
    {
     "name": "stdout",
     "output_type": "stream",
     "text": [
      "\n"
     ]
    },
    {
     "data": {
      "text/plain": [
       "['users_info']"
      ]
     },
     "execution_count": 8,
     "metadata": {},
     "output_type": "execute_result"
    }
   ],
   "source": [
    "num_of_blocks = len(data) // 1000 + 1\n",
    "stuff = len(data) % 1000\n",
    "users_info = []\n",
    "for i in tqdm_notebook(range(num_of_blocks)):\n",
    "    if i == i - 1:\n",
    "        users_info.append(vk.get_users_info(data.keys()[i*1000:i*1000 + stuff]))\n",
    "    else:\n",
    "        users_info.append(vk.get_users_info(data.keys()[i*1000:(i+1)*1000]))\n",
    "joblib.dump(users_info, filename=\"users_info\", compress=9)"
   ]
  },
  {
   "cell_type": "code",
   "execution_count": 9,
   "metadata": {
    "collapsed": false
   },
   "outputs": [],
   "source": [
    "def translate_users(users):\n",
    "    info = pd.DataFrame(columns=('Sex', 'Age', 'Country', 'Movie', 'Liked'))\n",
    "    for user in tqdm_notebook(users.keys()):\n",
    "        sex = users[user]['sex']\n",
    "        if sex == 2:\n",
    "            sex = 0\n",
    "        \n",
    "        age = float('NaN')\n",
    "        if 'bdate' in users[user].keys():\n",
    "            ages = users[user]['bdate'].split(\".\")\n",
    "            if len(ages) == 3:\n",
    "                age = 2016 - int(ages[2])\n",
    "        \n",
    "        country = float('NaN')\n",
    "        if 'country' in users[user].keys():\n",
    "            country = users[user]['country']\n",
    "            \n",
    "        movie_set = set()\n",
    "        \n",
    "        if \"movies\" in users[user].keys():\n",
    "            for movie in users[user]['movies'].split(','):\n",
    "                if  unique_movies[unique_movies == movie].size != 0:\n",
    "                    movie_set.add(unique_movies[unique_movies == movie].index[0])\n",
    "            set_len = len(movie_set)\n",
    "            good_scores = [1 for x in range(set_len)]\n",
    "            for i in range(3):\n",
    "                movie_set.add(random.randint(0, unique_movies.size - 1))\n",
    "            bad_scores = [0 for x in range(len(movie_set)-set_len)]\n",
    "            scores = []\n",
    "            good_scores.extend(bad_scores)\n",
    "            scores.extend(good_scores)\n",
    "\n",
    "            movie_set = list(movie_set)\n",
    "\n",
    "            for ind in range(len(scores)):\n",
    "                info.loc[len(info)] = [sex, age, country, movie_set[ind], scores[ind]]\n",
    "    return info"
   ]
  },
  {
   "cell_type": "code",
   "execution_count": 12,
   "metadata": {
    "collapsed": false,
    "scrolled": true
   },
   "outputs": [
    {
     "name": "stdout",
     "output_type": "stream",
     "text": [
      "\n",
      "\n",
      "\n"
     ]
    },
    {
     "ename": "KeyboardInterrupt",
     "evalue": "",
     "output_type": "error",
     "traceback": [
      "\u001b[1;31m---------------------------------------------------------------------------\u001b[0m",
      "\u001b[1;31mKeyboardInterrupt\u001b[0m                         Traceback (most recent call last)",
      "\u001b[1;32m<ipython-input-12-cee84a75363c>\u001b[0m in \u001b[0;36m<module>\u001b[1;34m()\u001b[0m\n\u001b[0;32m      3\u001b[0m \u001b[1;32mfor\u001b[0m \u001b[0mi\u001b[0m \u001b[1;32min\u001b[0m \u001b[0mrange\u001b[0m\u001b[1;33m(\u001b[0m\u001b[0mlen\u001b[0m\u001b[1;33m(\u001b[0m\u001b[0musers_info\u001b[0m\u001b[1;33m)\u001b[0m\u001b[1;33m-\u001b[0m\u001b[0mlen\u001b[0m\u001b[1;33m(\u001b[0m\u001b[0md\u001b[0m\u001b[1;33m)\u001b[0m\u001b[1;33m)\u001b[0m\u001b[1;33m:\u001b[0m\u001b[1;33m\u001b[0m\u001b[0m\n\u001b[0;32m      4\u001b[0m     \u001b[0mi\u001b[0m \u001b[1;33m+=\u001b[0m \u001b[0mlen\u001b[0m\u001b[1;33m(\u001b[0m\u001b[0md\u001b[0m\u001b[1;33m)\u001b[0m\u001b[1;33m\u001b[0m\u001b[0m\n\u001b[1;32m----> 5\u001b[1;33m     \u001b[0md\u001b[0m\u001b[1;33m.\u001b[0m\u001b[0mappend\u001b[0m\u001b[1;33m(\u001b[0m\u001b[0mtranslate_users\u001b[0m\u001b[1;33m(\u001b[0m\u001b[0musers_info\u001b[0m\u001b[1;33m[\u001b[0m\u001b[0mi\u001b[0m\u001b[1;33m]\u001b[0m\u001b[1;33m)\u001b[0m\u001b[1;33m)\u001b[0m\u001b[1;33m\u001b[0m\u001b[0m\n\u001b[0m\u001b[0;32m      6\u001b[0m     \u001b[0mjoblib\u001b[0m\u001b[1;33m.\u001b[0m\u001b[0mdump\u001b[0m\u001b[1;33m(\u001b[0m\u001b[0md\u001b[0m\u001b[1;33m,\u001b[0m \u001b[0mfilename\u001b[0m\u001b[1;33m=\u001b[0m\u001b[1;34m\"information\"\u001b[0m\u001b[1;33m,\u001b[0m \u001b[0mcompress\u001b[0m\u001b[1;33m=\u001b[0m\u001b[1;36m9\u001b[0m\u001b[1;33m)\u001b[0m\u001b[1;33m\u001b[0m\u001b[0m\n",
      "\u001b[1;32m<ipython-input-9-da3b92eb185c>\u001b[0m in \u001b[0;36mtranslate_users\u001b[1;34m(users)\u001b[0m\n\u001b[0;32m     20\u001b[0m         \u001b[1;32mif\u001b[0m \u001b[1;34m\"movies\"\u001b[0m \u001b[1;32min\u001b[0m \u001b[0musers\u001b[0m\u001b[1;33m[\u001b[0m\u001b[0muser\u001b[0m\u001b[1;33m]\u001b[0m\u001b[1;33m.\u001b[0m\u001b[0mkeys\u001b[0m\u001b[1;33m(\u001b[0m\u001b[1;33m)\u001b[0m\u001b[1;33m:\u001b[0m\u001b[1;33m\u001b[0m\u001b[0m\n\u001b[0;32m     21\u001b[0m             \u001b[1;32mfor\u001b[0m \u001b[0mmovie\u001b[0m \u001b[1;32min\u001b[0m \u001b[0musers\u001b[0m\u001b[1;33m[\u001b[0m\u001b[0muser\u001b[0m\u001b[1;33m]\u001b[0m\u001b[1;33m[\u001b[0m\u001b[1;34m'movies'\u001b[0m\u001b[1;33m]\u001b[0m\u001b[1;33m.\u001b[0m\u001b[0msplit\u001b[0m\u001b[1;33m(\u001b[0m\u001b[1;34m','\u001b[0m\u001b[1;33m)\u001b[0m\u001b[1;33m:\u001b[0m\u001b[1;33m\u001b[0m\u001b[0m\n\u001b[1;32m---> 22\u001b[1;33m                 \u001b[1;32mif\u001b[0m  \u001b[0munique_movies\u001b[0m\u001b[1;33m[\u001b[0m\u001b[0munique_movies\u001b[0m \u001b[1;33m==\u001b[0m \u001b[0mmovie\u001b[0m\u001b[1;33m]\u001b[0m\u001b[1;33m.\u001b[0m\u001b[0msize\u001b[0m \u001b[1;33m!=\u001b[0m \u001b[1;36m0\u001b[0m\u001b[1;33m:\u001b[0m\u001b[1;33m\u001b[0m\u001b[0m\n\u001b[0m\u001b[0;32m     23\u001b[0m                     \u001b[0mmovie_set\u001b[0m\u001b[1;33m.\u001b[0m\u001b[0madd\u001b[0m\u001b[1;33m(\u001b[0m\u001b[0munique_movies\u001b[0m\u001b[1;33m[\u001b[0m\u001b[0munique_movies\u001b[0m \u001b[1;33m==\u001b[0m \u001b[0mmovie\u001b[0m\u001b[1;33m]\u001b[0m\u001b[1;33m.\u001b[0m\u001b[0mindex\u001b[0m\u001b[1;33m[\u001b[0m\u001b[1;36m0\u001b[0m\u001b[1;33m]\u001b[0m\u001b[1;33m)\u001b[0m\u001b[1;33m\u001b[0m\u001b[0m\n\u001b[0;32m     24\u001b[0m             \u001b[0mset_len\u001b[0m \u001b[1;33m=\u001b[0m \u001b[0mlen\u001b[0m\u001b[1;33m(\u001b[0m\u001b[0mmovie_set\u001b[0m\u001b[1;33m)\u001b[0m\u001b[1;33m\u001b[0m\u001b[0m\n",
      "\u001b[1;32m/home/mdm/anaconda3/lib/python3.5/site-packages/pandas/core/ops.py\u001b[0m in \u001b[0;36mwrapper\u001b[1;34m(self, other, axis)\u001b[0m\n\u001b[0;32m    761\u001b[0m                 \u001b[0mother\u001b[0m \u001b[1;33m=\u001b[0m \u001b[0mnp\u001b[0m\u001b[1;33m.\u001b[0m\u001b[0masarray\u001b[0m\u001b[1;33m(\u001b[0m\u001b[0mother\u001b[0m\u001b[1;33m)\u001b[0m\u001b[1;33m\u001b[0m\u001b[0m\n\u001b[0;32m    762\u001b[0m \u001b[1;33m\u001b[0m\u001b[0m\n\u001b[1;32m--> 763\u001b[1;33m             \u001b[0mres\u001b[0m \u001b[1;33m=\u001b[0m \u001b[0mna_op\u001b[0m\u001b[1;33m(\u001b[0m\u001b[0mvalues\u001b[0m\u001b[1;33m,\u001b[0m \u001b[0mother\u001b[0m\u001b[1;33m)\u001b[0m\u001b[1;33m\u001b[0m\u001b[0m\n\u001b[0m\u001b[0;32m    764\u001b[0m             \u001b[1;32mif\u001b[0m \u001b[0misscalar\u001b[0m\u001b[1;33m(\u001b[0m\u001b[0mres\u001b[0m\u001b[1;33m)\u001b[0m\u001b[1;33m:\u001b[0m\u001b[1;33m\u001b[0m\u001b[0m\n\u001b[0;32m    765\u001b[0m                 raise TypeError('Could not compare %s type with Series' %\n",
      "\u001b[1;32m/home/mdm/anaconda3/lib/python3.5/site-packages/pandas/core/ops.py\u001b[0m in \u001b[0;36mna_op\u001b[1;34m(x, y)\u001b[0m\n\u001b[0;32m    681\u001b[0m                     \u001b[0mresult\u001b[0m \u001b[1;33m=\u001b[0m \u001b[0mlib\u001b[0m\u001b[1;33m.\u001b[0m\u001b[0mvec_compare\u001b[0m\u001b[1;33m(\u001b[0m\u001b[0mx\u001b[0m\u001b[1;33m,\u001b[0m \u001b[0my\u001b[0m\u001b[1;33m,\u001b[0m \u001b[0mop\u001b[0m\u001b[1;33m)\u001b[0m\u001b[1;33m\u001b[0m\u001b[0m\n\u001b[0;32m    682\u001b[0m             \u001b[1;32melse\u001b[0m\u001b[1;33m:\u001b[0m\u001b[1;33m\u001b[0m\u001b[0m\n\u001b[1;32m--> 683\u001b[1;33m                 \u001b[0mresult\u001b[0m \u001b[1;33m=\u001b[0m \u001b[0mlib\u001b[0m\u001b[1;33m.\u001b[0m\u001b[0mscalar_compare\u001b[0m\u001b[1;33m(\u001b[0m\u001b[0mx\u001b[0m\u001b[1;33m,\u001b[0m \u001b[0my\u001b[0m\u001b[1;33m,\u001b[0m \u001b[0mop\u001b[0m\u001b[1;33m)\u001b[0m\u001b[1;33m\u001b[0m\u001b[0m\n\u001b[0m\u001b[0;32m    684\u001b[0m         \u001b[1;32melse\u001b[0m\u001b[1;33m:\u001b[0m\u001b[1;33m\u001b[0m\u001b[0m\n\u001b[0;32m    685\u001b[0m \u001b[1;33m\u001b[0m\u001b[0m\n",
      "\u001b[1;31mKeyboardInterrupt\u001b[0m: "
     ]
    }
   ],
   "source": [
    "info = pd.DataFrame(columns=('Sex', 'Age', 'Country', 'Movie', 'Liked'))\n",
    "d=[]\n",
    "for i in range(len(users_info)-len(d)):\n",
    "    i += len(d)\n",
    "    d.append(translate_users(users_info[i]))\n",
    "    joblib.dump(d, filename=\"information\", compress=9)"
   ]
  }
 ],
 "metadata": {
  "anaconda-cloud": {},
  "kernelspec": {
   "display_name": "Python [Root]",
   "language": "python",
   "name": "Python [Root]"
  },
  "language_info": {
   "codemirror_mode": {
    "name": "ipython",
    "version": 3
   },
   "file_extension": ".py",
   "mimetype": "text/x-python",
   "name": "python",
   "nbconvert_exporter": "python",
   "pygments_lexer": "ipython3",
   "version": "3.5.2"
  }
 },
 "nbformat": 4,
 "nbformat_minor": 0
}
