{
 "cells": [
  {
   "cell_type": "markdown",
   "metadata": {},
   "source": [
    "# recommendMe"
   ]
  },
  {
   "cell_type": "code",
   "execution_count": 11,
   "metadata": {
    "collapsed": true
   },
   "outputs": [],
   "source": [
    "import vk\n",
    "import pandas as pd\n",
    "import random\n",
    "import time\n",
    "from sklearn.externals import joblib\n",
    "from scipy.sparse import csr_matrix, lil_matrix\n",
    "from pathlib import Path\n",
    "from sklearn.decomposition import TruncatedSVD\n",
    "from tqdm import tqdm_notebook\n",
    "import urllib\n",
    "import pymongo\n",
    "import json\n",
    "import numpy as np\n",
    "from sklearn.metrics.pairwise import cosine_similarity \n",
    "from IPython.display import clear_output\n",
    "from flask import Flask"
   ]
  },
  {
   "cell_type": "markdown",
   "metadata": {},
   "source": [
    "## База данных"
   ]
  },
  {
   "cell_type": "code",
   "execution_count": 2,
   "metadata": {
    "collapsed": true
   },
   "outputs": [],
   "source": [
    "client = pymongo.MongoClient(\"localhost\", 27017)\n",
    "db = client[\"vk_users\"]"
   ]
  },
  {
   "cell_type": "code",
   "execution_count": 3,
   "metadata": {
    "collapsed": true
   },
   "outputs": [],
   "source": [
    "user_info = db[\"User_Info\"]\n",
    "movie_info = db[\"Movie_Info\"]\n",
    "ratings_info = db[\"ratings\"]"
   ]
  },
  {
   "cell_type": "markdown",
   "metadata": {},
   "source": [
    "## Validating movies"
   ]
  },
  {
   "cell_type": "code",
   "execution_count": 4,
   "metadata": {
    "collapsed": true
   },
   "outputs": [],
   "source": [
    "API_KEY = \"c30070156d8d7a150ea066f8094a2013\""
   ]
  },
  {
   "cell_type": "code",
   "execution_count": 5,
   "metadata": {
    "collapsed": true
   },
   "outputs": [],
   "source": [
    "def get_coded_string(string):\n",
    "    value_utf8 = string.encode(\"utf-8\")\n",
    "    return urllib.parse.quote(value_utf8)"
   ]
  },
  {
   "cell_type": "code",
   "execution_count": 6,
   "metadata": {
    "collapsed": true
   },
   "outputs": [],
   "source": [
    "def get_movie_info(movie_name, api_key, desired_list=['id', 'title', 'original_title', 'genre_ids', 'poster_path']):\n",
    "    \n",
    "    URL = \"https://api.themoviedb.org/3/search/movie?api_key={0}&language=ru&query={1}&page=1&include_adult=false\"\n",
    "    \n",
    "    URL = URL.format(api_key, get_coded_string(movie_name))\n",
    "    \n",
    "    response = urllib.request.urlopen(URL)\n",
    "    \n",
    "    response = response.read().decode(\"utf-8\")\n",
    "    \n",
    "    js = json.loads(response)\n",
    "    \n",
    "    if len(js['results']) == 0:\n",
    "        return []\n",
    "    else:\n",
    "        return {x : js['results'][0][x] for x in desired_list}"
   ]
  },
  {
   "cell_type": "markdown",
   "metadata": {},
   "source": [
    "## Получаем информацию о юзерах, у которых указано больше N любимых фильмов"
   ]
  },
  {
   "cell_type": "code",
   "execution_count": 7,
   "metadata": {
    "collapsed": false
   },
   "outputs": [],
   "source": [
    "def get_data(id, n, user_db=user_info, movie_db=movie_info, ratings_db=ratings_info, min_num_of_movies=3):\n",
    "    \n",
    "    last_id = 0\n",
    "    count = 0\n",
    "    \n",
    "    while user_db.count() < n:\n",
    "        \n",
    "        f = vk.get_friends(str(id))\n",
    "        \n",
    "        friends = []\n",
    "        for x in f:\n",
    "            friends.append(str(x))\n",
    "        \n",
    "        friends_info = vk.get_users_info(friends)\n",
    "                \n",
    "        for friend in friends_info.keys():\n",
    "            if user_db.count() >= n:\n",
    "                break\n",
    "            \n",
    "            try:\n",
    "                if count == 100:\n",
    "                    time.sleep(1)\n",
    "                    count = 0\n",
    "                else:\n",
    "                    count += 1        \n",
    "                if (\"movies\" in friends_info[friend].keys() \n",
    "                    and len(friends_info[friend][\"movies\"].split(\",\")) >= min_num_of_movies\n",
    "                    #and type(user_db.find_one({\"_id\":friend})) == \"NoneType\"\n",
    "                    and len(friends) >= 5):\n",
    "                                        \n",
    "                    movies = []\n",
    "                    min_len = 2\n",
    "                    for movie in friends_info[friend][\"movies\"].split(\",\"):\n",
    "                        if len(movie) >= min_len:\n",
    "                            m_info = get_movie_info(movie, API_KEY)\n",
    "                            if m_info != []:\n",
    "                                movies.append(m_info['id'])\n",
    "                                m_info['_id'] = m_info['id']\n",
    "                                del m_info['id']\n",
    "                                \n",
    "                                try:\n",
    "                                    movie_db.insert_one(m_info)\n",
    "                                except Exception as e:\n",
    "                                    1+1\n",
    "                    if len(movies) >= min_num_of_movies:\n",
    "                        friends_info[friend]['_id'] = friends_info[friend]['uid']\n",
    "                        del friends_info[friend]['uid']\n",
    "                        friends_info[friend]['movies'] = movies\n",
    "                        try:\n",
    "                            f = friends_info[friend]\n",
    "                            f['groups'] = vk.get_groups(f['_id'])['groups']['items']\n",
    "                            f = {x : f[x] for x in [\"movies\", \"groups\", \"_id\"]}\n",
    "                            user_db.insert_one(f)\n",
    "                            \n",
    "                            rating = {str(x) : 10 for x in f['movies']}\n",
    "                            rating[\"_id\"] = f[\"_id\"]\n",
    "                            ratings_db.insert_one(rating)\n",
    "                            \n",
    "                        except Exception as e:\n",
    "                            1+1\n",
    "            except:\n",
    "                pass\n",
    "        clear_output()\n",
    "        print(\"Size: \" + str(user_db.count()))\n",
    "        \n",
    "        if user_db.count() < n:\n",
    "            last_id = id\n",
    "            while True: \n",
    "                ind = random.randint(0, len(friends)-1)\n",
    "                if (len(vk.get_friends(friends[ind])) >= 5\n",
    "                    and last_id != friends[ind]):\n",
    "                    id = friends[ind]\n",
    "                    break\n",
    "            \n",
    "    return movies"
   ]
  },
  {
   "cell_type": "markdown",
   "metadata": {},
   "source": [
    "## Скачиваем юзеров"
   ]
  },
  {
   "cell_type": "code",
   "execution_count": null,
   "metadata": {
    "collapsed": false,
    "scrolled": true
   },
   "outputs": [],
   "source": [
    "get_data(133506, 1000000)"
   ]
  },
  {
   "cell_type": "markdown",
   "metadata": {},
   "source": [
    "## Строим Sparse матрицу"
   ]
  },
  {
   "cell_type": "code",
   "execution_count": 8,
   "metadata": {
    "collapsed": false
   },
   "outputs": [],
   "source": [
    "def build_matrix(user_db=user_info, ratings_db=ratings_info, build_type=\"groups\", matr_type=\"csr\"):\n",
    "    '''\n",
    "    build_type = \"groups\"/\"ratings\"\n",
    "    matr_type = \"csr\"/\"lil\"\n",
    "    '''\n",
    "    \n",
    "    users_arr = np.array([x[\"_id\"] for x in user_db.find()])\n",
    "    users_dict = {x : i for i, x in enumerate(users_arr)}\n",
    "    \n",
    "    user_matr = []\n",
    "    info_matr = []\n",
    "    data_matr = []\n",
    "    \n",
    "    if build_type == \"groups\":\n",
    "        info_arr = []\n",
    "        for x in user_db.find():\n",
    "            for group in x['groups']:\n",
    "                info_arr.append(group)\n",
    "                user_matr.append(x['_id'])\n",
    "                info_matr.append(group)\n",
    "                data_matr.append(1)\n",
    "        info_arr = np.unique(info_arr)\n",
    "    elif build_type == \"ratings\":\n",
    "        info_arr = []\n",
    "        for x in ratings_db.find():\n",
    "            user = x[\"_id\"]\n",
    "            del x[\"_id\"]\n",
    "            for movie in x.keys():\n",
    "                info_arr.append(movie)\n",
    "                user_matr.append(user)\n",
    "                info_matr.append(movie)\n",
    "                data_matr.append(x[movie])\n",
    "        info_arr = np.unique(info_arr)\n",
    "    \n",
    "    info_dict = {x : i for i, x in enumerate(info_arr)}\n",
    "    \n",
    "    user_matr = np.array([users_dict[x] for x in user_matr])\n",
    "    info_matr = np.array([info_dict[x] for x in info_matr])\n",
    "    matr = csr_matrix((data_matr, (user_matr, info_matr)), shape=(len(users_dict), len(info_dict)))\n",
    "    return matr, users_dict, info_dict    "
   ]
  },
  {
   "cell_type": "markdown",
   "metadata": {},
   "source": [
    "## Похожесть юзеров"
   ]
  },
  {
   "cell_type": "code",
   "execution_count": 9,
   "metadata": {
    "collapsed": true
   },
   "outputs": [],
   "source": [
    "def get_most_simular(user_matr, user_index, N=5):\n",
    "    '''\n",
    "    Get N most simular users\n",
    "    '''\n",
    "    simularities = cosine_similarity(user_matr[user_index], user_matr)\n",
    "    indexes = simularities.argsort()\n",
    "    return indexes[0][-N-1:-1]"
   ]
  },
  {
   "cell_type": "markdown",
   "metadata": {},
   "source": [
    "## Функции для рекомендации"
   ]
  },
  {
   "cell_type": "code",
   "execution_count": 51,
   "metadata": {
    "collapsed": true
   },
   "outputs": [],
   "source": [
    "def ratings_rec(matrix, user_index, users, movies, return_num=10, movie_db=movie_info):\n",
    "    svd = TruncatedSVD(n_components=100)\n",
    "    svd.fit(matrix)\n",
    "    \n",
    "    y = svd.inverse_transform(svd.transform(matrix[user_index].todense()))\n",
    "    \n",
    "    reverse_users = {y:x for y, x in enumerate(users)}\n",
    "    reverse_movies = {y:x for y, x in enumerate(movies)}\n",
    "    \n",
    "    movies = []\n",
    "    for key, value in sorted(enumerate(y[0]), key=lambda x: -x[1])[:return_num]:\n",
    "        movies.append(movie_db.find_one({\"_id\":int(reverse_movies[key])}))\n",
    "    return movies"
   ]
  },
  {
   "cell_type": "code",
   "execution_count": 58,
   "metadata": {
    "collapsed": true
   },
   "outputs": [],
   "source": [
    "def groups_rec(matrix, user_index, users, return_num=5, movie_db=movie_info, user_db=user_info):\n",
    "    reverse_users = {y:x for y, x in enumerate(users)}\n",
    "    \n",
    "    movies = []\n",
    "    \n",
    "    for _id in reversed(get_most_simular(matrix, user_index, N=return_num)):\n",
    "        for movie in (user_db.find_one({\"_id\":int(reverse_users[_id])})['movies']):\n",
    "            movies.append(movie_db.find_one({\"_id\":movie}))\n",
    "            \n",
    "    return movies"
   ]
  },
  {
   "cell_type": "markdown",
   "metadata": {},
   "source": [
    "## Тестим"
   ]
  },
  {
   "cell_type": "code",
   "execution_count": 27,
   "metadata": {
    "collapsed": false
   },
   "outputs": [],
   "source": [
    "ratings_matrix, r_users, r_movies = build_matrix(build_type=\"ratings\")"
   ]
  },
  {
   "cell_type": "code",
   "execution_count": 34,
   "metadata": {
    "collapsed": true
   },
   "outputs": [],
   "source": [
    "group_matrix, g_users, g_groups = build_matrix(build_type=\"groups\")"
   ]
  },
  {
   "cell_type": "code",
   "execution_count": 23,
   "metadata": {
    "collapsed": true
   },
   "outputs": [],
   "source": [
    "n = 1075"
   ]
  },
  {
   "cell_type": "code",
   "execution_count": 35,
   "metadata": {
    "collapsed": false
   },
   "outputs": [],
   "source": [
    "r_reverse_users = {y:x for y, x in enumerate(r_users)}\n",
    "g_reverse_users = {y:x for y, x in enumerate(g_users)}"
   ]
  },
  {
   "cell_type": "code",
   "execution_count": 36,
   "metadata": {
    "collapsed": false
   },
   "outputs": [],
   "source": [
    "id_ = r_reverse_users[n]"
   ]
  },
  {
   "cell_type": "code",
   "execution_count": 30,
   "metadata": {
    "collapsed": false
   },
   "outputs": [
    {
     "name": "stdout",
     "output_type": "stream",
     "text": [
      "После дождичка в четверг\n",
      "Достучаться до небес\n",
      "Кэнди\n",
      "Счастливое число Слевина\n"
     ]
    }
   ],
   "source": [
    "for x in user_info.find_one({\"_id\":int(id_)})['movies']:\n",
    "    print(movie_info.find_one({\"_id\":x})['title'])"
   ]
  },
  {
   "cell_type": "code",
   "execution_count": 32,
   "metadata": {
    "collapsed": false
   },
   "outputs": [
    {
     "name": "stdout",
     "output_type": "stream",
     "text": [
      "Дети кукурузы: Апокалипсис\n",
      "Освобождение: Прорыв\n",
      "Феи, сон в летнюю ночь\n",
      "Одна любовь на миллион\n",
      "В бой идут одни старики\n",
      "Лицензия на брак\n",
      "Индиана Джонс и последний крестовый поход\n",
      "Чикаго\n",
      "Двенадцать обезьян\n",
      "Мастер и Маргарита\n"
     ]
    }
   ],
   "source": [
    "for movie in ratings_rec(ratings_matrix, n, r_users, r_movies):\n",
    "    print(movie['title'])"
   ]
  },
  {
   "cell_type": "code",
   "execution_count": 62,
   "metadata": {
    "collapsed": false
   },
   "outputs": [
    {
     "name": "stdout",
     "output_type": "stream",
     "text": [
      "Жизнь других\n",
      "Мой лучший друг Шейлок\n",
      "Спасти мистера Бэнкса\n",
      "Честная куртизанка\n",
      "Анна и король\n",
      "Токийский мраморный шоколад\n",
      "Бродвейский идиот\n",
      "Алешкина любовь\n",
      "Через вселенную\n",
      "Спеши любить\n",
      "Дом у озера\n",
      "Куда приводят мечты\n",
      "Октябрьское небо\n"
     ]
    }
   ],
   "source": [
    "for movie in groups_rec(group_matrix, g_users[id_], users, return_num=1):\n",
    "    print(movie['title'])"
   ]
  },
  {
   "cell_type": "markdown",
   "metadata": {},
   "source": [
    "## Web"
   ]
  },
  {
   "cell_type": "code",
   "execution_count": 94,
   "metadata": {
    "collapsed": true
   },
   "outputs": [],
   "source": [
    "app = Flask(\"recApp\")"
   ]
  },
  {
   "cell_type": "code",
   "execution_count": 96,
   "metadata": {
    "collapsed": false
   },
   "outputs": [],
   "source": [
    "@app.route(\"/getRecs/<int:user_id>\")\n",
    "def get_recs(user_id):\n",
    "    user = user_info.find_one({\"_id\":user_id})\n",
    "    recs = []\n",
    "    if user:\n",
    "        matr, users, movies = build_matrix(build_type=\"ratings\")\n",
    "        recs = ratings_rec(matrix, users[user_id], users, movies)\n",
    "    else:\n",
    "        vk_user = vk.get_users_info([user_id])[str(user_id)]\n",
    "        if 'movies' in vk_user and len(vk_user['movies']) != 0:\n",
    "            unchecked = []\n",
    "            for movie in vk_user['movies']:\n",
    "                m = movie_info.find_one({\"title\":movie}) \n",
    "                if m:\n",
    "                    recs.append(m)\n",
    "                else:\n",
    "                    unchecked.append(movie)\n",
    "            for movie in unchecked:\n",
    "                m = get_movie_info(movie, API_KEY)\n",
    "                if m != []:\n",
    "                    m[\"_id\"] = m[\"id\"]\n",
    "                    del m[\"id\"]\n",
    "                    recs.append(m)\n",
    "                    try:\n",
    "                        movie_info.insert_one(m)\n",
    "                    except:\n",
    "                        1+1\n",
    "    return json.dumps(recs)"
   ]
  },
  {
   "cell_type": "code",
   "execution_count": null,
   "metadata": {
    "collapsed": false
   },
   "outputs": [],
   "source": [
    "app.run(port=8888)"
   ]
  }
 ],
 "metadata": {
  "anaconda-cloud": {},
  "kernelspec": {
   "display_name": "Python [Root]",
   "language": "python",
   "name": "Python [Root]"
  },
  "language_info": {
   "codemirror_mode": {
    "name": "ipython",
    "version": 3
   },
   "file_extension": ".py",
   "mimetype": "text/x-python",
   "name": "python",
   "nbconvert_exporter": "python",
   "pygments_lexer": "ipython3",
   "version": "3.5.2"
  }
 },
 "nbformat": 4,
 "nbformat_minor": 0
}
