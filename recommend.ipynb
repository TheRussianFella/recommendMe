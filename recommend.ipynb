{
 "cells": [
  {
   "cell_type": "code",
   "execution_count": 7,
   "metadata": {
    "collapsed": true
   },
   "outputs": [],
   "source": [
    "import vk\n",
    "import pandas as pd\n",
    "import random\n",
    "import time\n",
    "from sklearn.externals import joblib\n",
    "from scipy.sparse import csr_matrix\n",
    "from pathlib import Path"
   ]
  },
  {
   "cell_type": "markdown",
   "metadata": {},
   "source": [
    "## Function to get movies info from VK"
   ]
  },
  {
   "cell_type": "code",
   "execution_count": 5,
   "metadata": {
    "collapsed": true
   },
   "outputs": [],
   "source": [
    "def get_data(id, n, min_num_of_movies=3):\n",
    "    movies = pd.Series()\n",
    "    last_id = 0\n",
    "    index = 0\n",
    "    count = 0\n",
    "    \n",
    "    while movies.size < n:\n",
    "        \n",
    "        \n",
    "        f = vk.get_friends(str(id))\n",
    "\n",
    "        friends = []\n",
    "        for x in f:\n",
    "            friends.append(str(x))\n",
    "            \n",
    "        for friend in friends:\n",
    "            if movies.size >= n:\n",
    "                break\n",
    "            \n",
    "            try:\n",
    "                user_info = vk.get_users_info([friend])\n",
    "\n",
    "                if count == 100:\n",
    "                    print(\"pause\")\n",
    "                    time.sleep(1)\n",
    "                    count = 0\n",
    "                else:\n",
    "                    count += 1\n",
    "\n",
    "                if (\"movies\" in user_info[friend].keys() \n",
    "                    and len(user_info[friend][\"movies\"]) >= min_num_of_movies\n",
    "                    and not friend in movies.keys()\n",
    "                    and len(friends) >= 5):\n",
    "                    if index % 20 == 0:\n",
    "                        joblib.dump(movies, filename=\"movies\", compress=9)\n",
    "                    movies.set_value(index, user_info[friend][\"movies\"].split(\",\"))\n",
    "                    index += 1\n",
    "                    print(friend)\n",
    "            except:\n",
    "                pass\n",
    "        print(\"Index: \" + str(index))\n",
    "        print(\"Id: \" + str(id))\n",
    "        print(\"Last id: \" + str(last_id))\n",
    "        if movies.size < n:\n",
    "            last_id = id\n",
    "            while True: \n",
    "                ind = random.randint(0, len(friends))\n",
    "                if (len(vk.get_friends(friends[ind])) != 0\n",
    "                    or last_id != friends[ind]):\n",
    "                    id = friends[ind]\n",
    "                    break\n",
    "            \n",
    "    return movies"
   ]
  },
  {
   "cell_type": "markdown",
   "metadata": {},
   "source": [
    "## Function to get unique movies"
   ]
  },
  {
   "cell_type": "code",
   "execution_count": 3,
   "metadata": {
    "collapsed": true
   },
   "outputs": [],
   "source": [
    "def get_unique_movies(data):\n",
    "    unique_movies = pd.Series()\n",
    "    index = 0\n",
    "    for movies in data:\n",
    "        for movie in movies:\n",
    "            if not movie in unique_movies:\n",
    "                unique_movies.set_value(index, movie)\n",
    "                index += 1\n",
    "    return unique_movies"
   ]
  },
  {
   "cell_type": "markdown",
   "metadata": {},
   "source": [
    "## Function to construct a matrix"
   ]
  },
  {
   "cell_type": "code",
   "execution_count": 4,
   "metadata": {
    "collapsed": true
   },
   "outputs": [],
   "source": [
    "def construct_matrix(data, unique_movies):\n",
    "    row = []\n",
    "    column = []\n",
    "\n",
    "    for user in data.keys():\n",
    "        for movie in data[user]:\n",
    "            row.append(user)\n",
    "            column.append(unique_movies[unique_movies == movie].index[0])\n",
    "    data = [1 for x in range(len(row))]\n",
    "    movies_matrix = csr_matrix((data, (row, column)), \\\n",
    "                               shape=(len(data), len(unique_movies)))\n",
    "    return movies_matrix"
   ]
  },
  {
   "cell_type": "markdown",
   "metadata": {},
   "source": [
    "# Main stuff"
   ]
  },
  {
   "cell_type": "code",
   "execution_count": 9,
   "metadata": {
    "collapsed": false
   },
   "outputs": [],
   "source": [
    "file = Path(\"movies\")\n",
    "if file.is_file():\n",
    "    data = joblib.load(\"movies\")\n",
    "else:\n",
    "    data = get_data(1, 1000)"
   ]
  },
  {
   "cell_type": "code",
   "execution_count": 10,
   "metadata": {
    "collapsed": true
   },
   "outputs": [],
   "source": [
    "unique_movies = get_unique_movies(data)"
   ]
  },
  {
   "cell_type": "code",
   "execution_count": 11,
   "metadata": {
    "collapsed": true
   },
   "outputs": [],
   "source": [
    "matrix = construct_matrix(data, unique_movies)"
   ]
  },
  {
   "cell_type": "code",
   "execution_count": null,
   "metadata": {
    "collapsed": true
   },
   "outputs": [],
   "source": []
  }
 ],
 "metadata": {
  "anaconda-cloud": {},
  "kernelspec": {
   "display_name": "Python [Root]",
   "language": "python",
   "name": "Python [Root]"
  },
  "language_info": {
   "codemirror_mode": {
    "name": "ipython",
    "version": 3
   },
   "file_extension": ".py",
   "mimetype": "text/x-python",
   "name": "python",
   "nbconvert_exporter": "python",
   "pygments_lexer": "ipython3",
   "version": "3.5.2"
  }
 },
 "nbformat": 4,
 "nbformat_minor": 0
}
